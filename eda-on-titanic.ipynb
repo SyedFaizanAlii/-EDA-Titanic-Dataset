{
 "cells": [
  {
   "cell_type": "markdown",
   "id": "a9c3f17b",
   "metadata": {
    "papermill": {
     "duration": 0.017374,
     "end_time": "2024-05-06T22:49:02.236273",
     "exception": false,
     "start_time": "2024-05-06T22:49:02.218899",
     "status": "completed"
    },
    "tags": []
   },
   "source": [
    "# Import liraries"
   ]
  },
  {
   "cell_type": "markdown",
   "id": "7e87be40",
   "metadata": {
    "papermill": {
     "duration": 0.016635,
     "end_time": "2024-05-06T22:49:02.269869",
     "exception": false,
     "start_time": "2024-05-06T22:49:02.253234",
     "status": "completed"
    },
    "tags": []
   },
   "source": [
    "# Titanic - Dataset EDA (Beginners Friendly)\n",
    "![Alt Text](https://media.licdn.com/dms/image/C4D12AQHsDRbH7GXOZg/article-cover_image-shrink_720_1280/0/1604989195408?e=1720656000&v=beta&t=qAFWrQQlwbxK0jty_zQEDDCjmU7ICOximE7vT5J1Vbo)\n",
    "\n",
    "\n",
    "## Introduction to the Titanic Dataset\n",
    "\n",
    "The Titanic dataset is one of the most iconic datasets used for introductory data analysis and machine learning tasks. It contains information about the passengers aboard the RMS Titanic, which tragically sank on its maiden voyage in April 1912 after colliding with an iceberg.\n",
    "\n",
    "This dataset is often used for predictive modeling tasks, particularly for predicting whether a passenger survived or not based on various attributes such as age, gender, ticket class, etc. It is a classic binary classification problem: predicting survival (1) or death (0) for each passenger.\n",
    "\n",
    "## Columns in the Dataset:\n",
    "\n",
    "Dataset contains the following columns:\n",
    "\n",
    "- **PassengerId:** Unique identifier for each passenger.\n",
    "- **Survived:** Binary variable indicating whether the passenger survived (1) or not (0).\n",
    "- **Pclass:** Ticket class (1st, 2nd, or 3rd).\n",
    "- **Name:** Passenger's name.\n",
    "- **Sex:** Passenger's gender.\n",
    "- **Age:** Passenger's age.\n",
    "- **Sibsp:** Number of siblings/spouses aboard.\n",
    "- **Parch:** Number of parents/children aboard.\n",
    "- **Ticket:** Ticket number.\n",
    "- **Fare:** Passenger fare.\n",
    "- **Deck:** Cabin number.\n",
    "- **Embarked:** Port of embarkation (C = Cherbourg, Q = Queenstown, S = Southampton).\n"
   ]
  },
  {
   "cell_type": "markdown",
   "id": "ad8a0a9d",
   "metadata": {
    "papermill": {
     "duration": 0.017257,
     "end_time": "2024-05-06T22:49:02.303864",
     "exception": false,
     "start_time": "2024-05-06T22:49:02.286607",
     "status": "completed"
    },
    "tags": []
   },
   "source": [
    "# **Import Libraries**"
   ]
  },
  {
   "cell_type": "code",
   "execution_count": 1,
   "id": "198d369e",
   "metadata": {
    "execution": {
     "iopub.execute_input": "2024-05-06T22:49:02.338441Z",
     "iopub.status.busy": "2024-05-06T22:49:02.337987Z",
     "iopub.status.idle": "2024-05-06T22:49:04.928518Z",
     "shell.execute_reply": "2024-05-06T22:49:04.927540Z"
    },
    "papermill": {
     "duration": 2.610679,
     "end_time": "2024-05-06T22:49:04.931064",
     "exception": false,
     "start_time": "2024-05-06T22:49:02.320385",
     "status": "completed"
    },
    "tags": []
   },
   "outputs": [],
   "source": [
    "# Import liraries\n",
    "import pandas as pd\n",
    "import seaborn as sns\n",
    "import matplotlib as plt\n",
    "import plotly.express as px\n",
    "from scipy import stats\n",
    "\n",
    "import warnings\n",
    "warnings.filterwarnings('ignore')"
   ]
  },
  {
   "cell_type": "markdown",
   "id": "b29e936d",
   "metadata": {
    "papermill": {
     "duration": 0.015917,
     "end_time": "2024-05-06T22:49:04.963282",
     "exception": false,
     "start_time": "2024-05-06T22:49:04.947365",
     "status": "completed"
    },
    "tags": []
   },
   "source": [
    "# Import dataset"
   ]
  },
  {
   "cell_type": "code",
   "execution_count": 2,
   "id": "97cd6e20",
   "metadata": {
    "execution": {
     "iopub.execute_input": "2024-05-06T22:49:04.997263Z",
     "iopub.status.busy": "2024-05-06T22:49:04.996142Z",
     "iopub.status.idle": "2024-05-06T22:49:05.703124Z",
     "shell.execute_reply": "2024-05-06T22:49:05.702209Z"
    },
    "papermill": {
     "duration": 0.725953,
     "end_time": "2024-05-06T22:49:05.705126",
     "exception": false,
     "start_time": "2024-05-06T22:49:04.979173",
     "status": "completed"
    },
    "tags": []
   },
   "outputs": [
    {
     "data": {
      "text/html": [
       "<div>\n",
       "<style scoped>\n",
       "    .dataframe tbody tr th:only-of-type {\n",
       "        vertical-align: middle;\n",
       "    }\n",
       "\n",
       "    .dataframe tbody tr th {\n",
       "        vertical-align: top;\n",
       "    }\n",
       "\n",
       "    .dataframe thead th {\n",
       "        text-align: right;\n",
       "    }\n",
       "</style>\n",
       "<table border=\"1\" class=\"dataframe\">\n",
       "  <thead>\n",
       "    <tr style=\"text-align: right;\">\n",
       "      <th></th>\n",
       "      <th>survived</th>\n",
       "      <th>pclass</th>\n",
       "      <th>sex</th>\n",
       "      <th>age</th>\n",
       "      <th>sibsp</th>\n",
       "      <th>parch</th>\n",
       "      <th>fare</th>\n",
       "      <th>embarked</th>\n",
       "      <th>class</th>\n",
       "      <th>who</th>\n",
       "      <th>adult_male</th>\n",
       "      <th>deck</th>\n",
       "      <th>embark_town</th>\n",
       "      <th>alive</th>\n",
       "      <th>alone</th>\n",
       "    </tr>\n",
       "  </thead>\n",
       "  <tbody>\n",
       "    <tr>\n",
       "      <th>0</th>\n",
       "      <td>0</td>\n",
       "      <td>3</td>\n",
       "      <td>male</td>\n",
       "      <td>22.0</td>\n",
       "      <td>1</td>\n",
       "      <td>0</td>\n",
       "      <td>7.2500</td>\n",
       "      <td>S</td>\n",
       "      <td>Third</td>\n",
       "      <td>man</td>\n",
       "      <td>True</td>\n",
       "      <td>NaN</td>\n",
       "      <td>Southampton</td>\n",
       "      <td>no</td>\n",
       "      <td>False</td>\n",
       "    </tr>\n",
       "    <tr>\n",
       "      <th>1</th>\n",
       "      <td>1</td>\n",
       "      <td>1</td>\n",
       "      <td>female</td>\n",
       "      <td>38.0</td>\n",
       "      <td>1</td>\n",
       "      <td>0</td>\n",
       "      <td>71.2833</td>\n",
       "      <td>C</td>\n",
       "      <td>First</td>\n",
       "      <td>woman</td>\n",
       "      <td>False</td>\n",
       "      <td>C</td>\n",
       "      <td>Cherbourg</td>\n",
       "      <td>yes</td>\n",
       "      <td>False</td>\n",
       "    </tr>\n",
       "    <tr>\n",
       "      <th>2</th>\n",
       "      <td>1</td>\n",
       "      <td>3</td>\n",
       "      <td>female</td>\n",
       "      <td>26.0</td>\n",
       "      <td>0</td>\n",
       "      <td>0</td>\n",
       "      <td>7.9250</td>\n",
       "      <td>S</td>\n",
       "      <td>Third</td>\n",
       "      <td>woman</td>\n",
       "      <td>False</td>\n",
       "      <td>NaN</td>\n",
       "      <td>Southampton</td>\n",
       "      <td>yes</td>\n",
       "      <td>True</td>\n",
       "    </tr>\n",
       "    <tr>\n",
       "      <th>3</th>\n",
       "      <td>1</td>\n",
       "      <td>1</td>\n",
       "      <td>female</td>\n",
       "      <td>35.0</td>\n",
       "      <td>1</td>\n",
       "      <td>0</td>\n",
       "      <td>53.1000</td>\n",
       "      <td>S</td>\n",
       "      <td>First</td>\n",
       "      <td>woman</td>\n",
       "      <td>False</td>\n",
       "      <td>C</td>\n",
       "      <td>Southampton</td>\n",
       "      <td>yes</td>\n",
       "      <td>False</td>\n",
       "    </tr>\n",
       "    <tr>\n",
       "      <th>4</th>\n",
       "      <td>0</td>\n",
       "      <td>3</td>\n",
       "      <td>male</td>\n",
       "      <td>35.0</td>\n",
       "      <td>0</td>\n",
       "      <td>0</td>\n",
       "      <td>8.0500</td>\n",
       "      <td>S</td>\n",
       "      <td>Third</td>\n",
       "      <td>man</td>\n",
       "      <td>True</td>\n",
       "      <td>NaN</td>\n",
       "      <td>Southampton</td>\n",
       "      <td>no</td>\n",
       "      <td>True</td>\n",
       "    </tr>\n",
       "    <tr>\n",
       "      <th>...</th>\n",
       "      <td>...</td>\n",
       "      <td>...</td>\n",
       "      <td>...</td>\n",
       "      <td>...</td>\n",
       "      <td>...</td>\n",
       "      <td>...</td>\n",
       "      <td>...</td>\n",
       "      <td>...</td>\n",
       "      <td>...</td>\n",
       "      <td>...</td>\n",
       "      <td>...</td>\n",
       "      <td>...</td>\n",
       "      <td>...</td>\n",
       "      <td>...</td>\n",
       "      <td>...</td>\n",
       "    </tr>\n",
       "    <tr>\n",
       "      <th>886</th>\n",
       "      <td>0</td>\n",
       "      <td>2</td>\n",
       "      <td>male</td>\n",
       "      <td>27.0</td>\n",
       "      <td>0</td>\n",
       "      <td>0</td>\n",
       "      <td>13.0000</td>\n",
       "      <td>S</td>\n",
       "      <td>Second</td>\n",
       "      <td>man</td>\n",
       "      <td>True</td>\n",
       "      <td>NaN</td>\n",
       "      <td>Southampton</td>\n",
       "      <td>no</td>\n",
       "      <td>True</td>\n",
       "    </tr>\n",
       "    <tr>\n",
       "      <th>887</th>\n",
       "      <td>1</td>\n",
       "      <td>1</td>\n",
       "      <td>female</td>\n",
       "      <td>19.0</td>\n",
       "      <td>0</td>\n",
       "      <td>0</td>\n",
       "      <td>30.0000</td>\n",
       "      <td>S</td>\n",
       "      <td>First</td>\n",
       "      <td>woman</td>\n",
       "      <td>False</td>\n",
       "      <td>B</td>\n",
       "      <td>Southampton</td>\n",
       "      <td>yes</td>\n",
       "      <td>True</td>\n",
       "    </tr>\n",
       "    <tr>\n",
       "      <th>888</th>\n",
       "      <td>0</td>\n",
       "      <td>3</td>\n",
       "      <td>female</td>\n",
       "      <td>NaN</td>\n",
       "      <td>1</td>\n",
       "      <td>2</td>\n",
       "      <td>23.4500</td>\n",
       "      <td>S</td>\n",
       "      <td>Third</td>\n",
       "      <td>woman</td>\n",
       "      <td>False</td>\n",
       "      <td>NaN</td>\n",
       "      <td>Southampton</td>\n",
       "      <td>no</td>\n",
       "      <td>False</td>\n",
       "    </tr>\n",
       "    <tr>\n",
       "      <th>889</th>\n",
       "      <td>1</td>\n",
       "      <td>1</td>\n",
       "      <td>male</td>\n",
       "      <td>26.0</td>\n",
       "      <td>0</td>\n",
       "      <td>0</td>\n",
       "      <td>30.0000</td>\n",
       "      <td>C</td>\n",
       "      <td>First</td>\n",
       "      <td>man</td>\n",
       "      <td>True</td>\n",
       "      <td>C</td>\n",
       "      <td>Cherbourg</td>\n",
       "      <td>yes</td>\n",
       "      <td>True</td>\n",
       "    </tr>\n",
       "    <tr>\n",
       "      <th>890</th>\n",
       "      <td>0</td>\n",
       "      <td>3</td>\n",
       "      <td>male</td>\n",
       "      <td>32.0</td>\n",
       "      <td>0</td>\n",
       "      <td>0</td>\n",
       "      <td>7.7500</td>\n",
       "      <td>Q</td>\n",
       "      <td>Third</td>\n",
       "      <td>man</td>\n",
       "      <td>True</td>\n",
       "      <td>NaN</td>\n",
       "      <td>Queenstown</td>\n",
       "      <td>no</td>\n",
       "      <td>True</td>\n",
       "    </tr>\n",
       "  </tbody>\n",
       "</table>\n",
       "<p>891 rows × 15 columns</p>\n",
       "</div>"
      ],
      "text/plain": [
       "     survived  pclass     sex   age  sibsp  parch     fare embarked   class  \\\n",
       "0           0       3    male  22.0      1      0   7.2500        S   Third   \n",
       "1           1       1  female  38.0      1      0  71.2833        C   First   \n",
       "2           1       3  female  26.0      0      0   7.9250        S   Third   \n",
       "3           1       1  female  35.0      1      0  53.1000        S   First   \n",
       "4           0       3    male  35.0      0      0   8.0500        S   Third   \n",
       "..        ...     ...     ...   ...    ...    ...      ...      ...     ...   \n",
       "886         0       2    male  27.0      0      0  13.0000        S  Second   \n",
       "887         1       1  female  19.0      0      0  30.0000        S   First   \n",
       "888         0       3  female   NaN      1      2  23.4500        S   Third   \n",
       "889         1       1    male  26.0      0      0  30.0000        C   First   \n",
       "890         0       3    male  32.0      0      0   7.7500        Q   Third   \n",
       "\n",
       "       who  adult_male deck  embark_town alive  alone  \n",
       "0      man        True  NaN  Southampton    no  False  \n",
       "1    woman       False    C    Cherbourg   yes  False  \n",
       "2    woman       False  NaN  Southampton   yes   True  \n",
       "3    woman       False    C  Southampton   yes  False  \n",
       "4      man        True  NaN  Southampton    no   True  \n",
       "..     ...         ...  ...          ...   ...    ...  \n",
       "886    man        True  NaN  Southampton    no   True  \n",
       "887  woman       False    B  Southampton   yes   True  \n",
       "888  woman       False  NaN  Southampton    no  False  \n",
       "889    man        True    C    Cherbourg   yes   True  \n",
       "890    man        True  NaN   Queenstown    no   True  \n",
       "\n",
       "[891 rows x 15 columns]"
      ]
     },
     "execution_count": 2,
     "metadata": {},
     "output_type": "execute_result"
    }
   ],
   "source": [
    "df = sns.load_dataset('titanic')\n",
    "df"
   ]
  },
  {
   "cell_type": "markdown",
   "id": "bf432c44",
   "metadata": {
    "papermill": {
     "duration": 0.015903,
     "end_time": "2024-05-06T22:49:05.737223",
     "exception": false,
     "start_time": "2024-05-06T22:49:05.721320",
     "status": "completed"
    },
    "tags": []
   },
   "source": [
    "# Bigger Picture Of Data"
   ]
  },
  {
   "cell_type": "code",
   "execution_count": 3,
   "id": "21e830de",
   "metadata": {
    "execution": {
     "iopub.execute_input": "2024-05-06T22:49:05.770792Z",
     "iopub.status.busy": "2024-05-06T22:49:05.770064Z",
     "iopub.status.idle": "2024-05-06T22:49:05.787217Z",
     "shell.execute_reply": "2024-05-06T22:49:05.786234Z"
    },
    "papermill": {
     "duration": 0.036403,
     "end_time": "2024-05-06T22:49:05.789406",
     "exception": false,
     "start_time": "2024-05-06T22:49:05.753003",
     "status": "completed"
    },
    "tags": []
   },
   "outputs": [
    {
     "data": {
      "text/html": [
       "<div>\n",
       "<style scoped>\n",
       "    .dataframe tbody tr th:only-of-type {\n",
       "        vertical-align: middle;\n",
       "    }\n",
       "\n",
       "    .dataframe tbody tr th {\n",
       "        vertical-align: top;\n",
       "    }\n",
       "\n",
       "    .dataframe thead th {\n",
       "        text-align: right;\n",
       "    }\n",
       "</style>\n",
       "<table border=\"1\" class=\"dataframe\">\n",
       "  <thead>\n",
       "    <tr style=\"text-align: right;\">\n",
       "      <th></th>\n",
       "      <th>survived</th>\n",
       "      <th>pclass</th>\n",
       "      <th>sex</th>\n",
       "      <th>age</th>\n",
       "      <th>sibsp</th>\n",
       "      <th>parch</th>\n",
       "      <th>fare</th>\n",
       "      <th>embarked</th>\n",
       "      <th>class</th>\n",
       "      <th>who</th>\n",
       "      <th>adult_male</th>\n",
       "      <th>deck</th>\n",
       "      <th>embark_town</th>\n",
       "      <th>alive</th>\n",
       "      <th>alone</th>\n",
       "    </tr>\n",
       "  </thead>\n",
       "  <tbody>\n",
       "    <tr>\n",
       "      <th>0</th>\n",
       "      <td>0</td>\n",
       "      <td>3</td>\n",
       "      <td>male</td>\n",
       "      <td>22.0</td>\n",
       "      <td>1</td>\n",
       "      <td>0</td>\n",
       "      <td>7.2500</td>\n",
       "      <td>S</td>\n",
       "      <td>Third</td>\n",
       "      <td>man</td>\n",
       "      <td>True</td>\n",
       "      <td>NaN</td>\n",
       "      <td>Southampton</td>\n",
       "      <td>no</td>\n",
       "      <td>False</td>\n",
       "    </tr>\n",
       "    <tr>\n",
       "      <th>1</th>\n",
       "      <td>1</td>\n",
       "      <td>1</td>\n",
       "      <td>female</td>\n",
       "      <td>38.0</td>\n",
       "      <td>1</td>\n",
       "      <td>0</td>\n",
       "      <td>71.2833</td>\n",
       "      <td>C</td>\n",
       "      <td>First</td>\n",
       "      <td>woman</td>\n",
       "      <td>False</td>\n",
       "      <td>C</td>\n",
       "      <td>Cherbourg</td>\n",
       "      <td>yes</td>\n",
       "      <td>False</td>\n",
       "    </tr>\n",
       "    <tr>\n",
       "      <th>2</th>\n",
       "      <td>1</td>\n",
       "      <td>3</td>\n",
       "      <td>female</td>\n",
       "      <td>26.0</td>\n",
       "      <td>0</td>\n",
       "      <td>0</td>\n",
       "      <td>7.9250</td>\n",
       "      <td>S</td>\n",
       "      <td>Third</td>\n",
       "      <td>woman</td>\n",
       "      <td>False</td>\n",
       "      <td>NaN</td>\n",
       "      <td>Southampton</td>\n",
       "      <td>yes</td>\n",
       "      <td>True</td>\n",
       "    </tr>\n",
       "    <tr>\n",
       "      <th>3</th>\n",
       "      <td>1</td>\n",
       "      <td>1</td>\n",
       "      <td>female</td>\n",
       "      <td>35.0</td>\n",
       "      <td>1</td>\n",
       "      <td>0</td>\n",
       "      <td>53.1000</td>\n",
       "      <td>S</td>\n",
       "      <td>First</td>\n",
       "      <td>woman</td>\n",
       "      <td>False</td>\n",
       "      <td>C</td>\n",
       "      <td>Southampton</td>\n",
       "      <td>yes</td>\n",
       "      <td>False</td>\n",
       "    </tr>\n",
       "    <tr>\n",
       "      <th>4</th>\n",
       "      <td>0</td>\n",
       "      <td>3</td>\n",
       "      <td>male</td>\n",
       "      <td>35.0</td>\n",
       "      <td>0</td>\n",
       "      <td>0</td>\n",
       "      <td>8.0500</td>\n",
       "      <td>S</td>\n",
       "      <td>Third</td>\n",
       "      <td>man</td>\n",
       "      <td>True</td>\n",
       "      <td>NaN</td>\n",
       "      <td>Southampton</td>\n",
       "      <td>no</td>\n",
       "      <td>True</td>\n",
       "    </tr>\n",
       "  </tbody>\n",
       "</table>\n",
       "</div>"
      ],
      "text/plain": [
       "   survived  pclass     sex   age  sibsp  parch     fare embarked  class  \\\n",
       "0         0       3    male  22.0      1      0   7.2500        S  Third   \n",
       "1         1       1  female  38.0      1      0  71.2833        C  First   \n",
       "2         1       3  female  26.0      0      0   7.9250        S  Third   \n",
       "3         1       1  female  35.0      1      0  53.1000        S  First   \n",
       "4         0       3    male  35.0      0      0   8.0500        S  Third   \n",
       "\n",
       "     who  adult_male deck  embark_town alive  alone  \n",
       "0    man        True  NaN  Southampton    no  False  \n",
       "1  woman       False    C    Cherbourg   yes  False  \n",
       "2  woman       False  NaN  Southampton   yes   True  \n",
       "3  woman       False    C  Southampton   yes  False  \n",
       "4    man        True  NaN  Southampton    no   True  "
      ]
     },
     "execution_count": 3,
     "metadata": {},
     "output_type": "execute_result"
    }
   ],
   "source": [
    "df.head()"
   ]
  },
  {
   "cell_type": "code",
   "execution_count": 4,
   "id": "7edd82a2",
   "metadata": {
    "execution": {
     "iopub.execute_input": "2024-05-06T22:49:05.825143Z",
     "iopub.status.busy": "2024-05-06T22:49:05.824813Z",
     "iopub.status.idle": "2024-05-06T22:49:05.842598Z",
     "shell.execute_reply": "2024-05-06T22:49:05.841716Z"
    },
    "papermill": {
     "duration": 0.037754,
     "end_time": "2024-05-06T22:49:05.844835",
     "exception": false,
     "start_time": "2024-05-06T22:49:05.807081",
     "status": "completed"
    },
    "tags": []
   },
   "outputs": [
    {
     "data": {
      "text/html": [
       "<div>\n",
       "<style scoped>\n",
       "    .dataframe tbody tr th:only-of-type {\n",
       "        vertical-align: middle;\n",
       "    }\n",
       "\n",
       "    .dataframe tbody tr th {\n",
       "        vertical-align: top;\n",
       "    }\n",
       "\n",
       "    .dataframe thead th {\n",
       "        text-align: right;\n",
       "    }\n",
       "</style>\n",
       "<table border=\"1\" class=\"dataframe\">\n",
       "  <thead>\n",
       "    <tr style=\"text-align: right;\">\n",
       "      <th></th>\n",
       "      <th>survived</th>\n",
       "      <th>pclass</th>\n",
       "      <th>sex</th>\n",
       "      <th>age</th>\n",
       "      <th>sibsp</th>\n",
       "      <th>parch</th>\n",
       "      <th>fare</th>\n",
       "      <th>embarked</th>\n",
       "      <th>class</th>\n",
       "      <th>who</th>\n",
       "      <th>adult_male</th>\n",
       "      <th>deck</th>\n",
       "      <th>embark_town</th>\n",
       "      <th>alive</th>\n",
       "      <th>alone</th>\n",
       "    </tr>\n",
       "  </thead>\n",
       "  <tbody>\n",
       "    <tr>\n",
       "      <th>886</th>\n",
       "      <td>0</td>\n",
       "      <td>2</td>\n",
       "      <td>male</td>\n",
       "      <td>27.0</td>\n",
       "      <td>0</td>\n",
       "      <td>0</td>\n",
       "      <td>13.00</td>\n",
       "      <td>S</td>\n",
       "      <td>Second</td>\n",
       "      <td>man</td>\n",
       "      <td>True</td>\n",
       "      <td>NaN</td>\n",
       "      <td>Southampton</td>\n",
       "      <td>no</td>\n",
       "      <td>True</td>\n",
       "    </tr>\n",
       "    <tr>\n",
       "      <th>887</th>\n",
       "      <td>1</td>\n",
       "      <td>1</td>\n",
       "      <td>female</td>\n",
       "      <td>19.0</td>\n",
       "      <td>0</td>\n",
       "      <td>0</td>\n",
       "      <td>30.00</td>\n",
       "      <td>S</td>\n",
       "      <td>First</td>\n",
       "      <td>woman</td>\n",
       "      <td>False</td>\n",
       "      <td>B</td>\n",
       "      <td>Southampton</td>\n",
       "      <td>yes</td>\n",
       "      <td>True</td>\n",
       "    </tr>\n",
       "    <tr>\n",
       "      <th>888</th>\n",
       "      <td>0</td>\n",
       "      <td>3</td>\n",
       "      <td>female</td>\n",
       "      <td>NaN</td>\n",
       "      <td>1</td>\n",
       "      <td>2</td>\n",
       "      <td>23.45</td>\n",
       "      <td>S</td>\n",
       "      <td>Third</td>\n",
       "      <td>woman</td>\n",
       "      <td>False</td>\n",
       "      <td>NaN</td>\n",
       "      <td>Southampton</td>\n",
       "      <td>no</td>\n",
       "      <td>False</td>\n",
       "    </tr>\n",
       "    <tr>\n",
       "      <th>889</th>\n",
       "      <td>1</td>\n",
       "      <td>1</td>\n",
       "      <td>male</td>\n",
       "      <td>26.0</td>\n",
       "      <td>0</td>\n",
       "      <td>0</td>\n",
       "      <td>30.00</td>\n",
       "      <td>C</td>\n",
       "      <td>First</td>\n",
       "      <td>man</td>\n",
       "      <td>True</td>\n",
       "      <td>C</td>\n",
       "      <td>Cherbourg</td>\n",
       "      <td>yes</td>\n",
       "      <td>True</td>\n",
       "    </tr>\n",
       "    <tr>\n",
       "      <th>890</th>\n",
       "      <td>0</td>\n",
       "      <td>3</td>\n",
       "      <td>male</td>\n",
       "      <td>32.0</td>\n",
       "      <td>0</td>\n",
       "      <td>0</td>\n",
       "      <td>7.75</td>\n",
       "      <td>Q</td>\n",
       "      <td>Third</td>\n",
       "      <td>man</td>\n",
       "      <td>True</td>\n",
       "      <td>NaN</td>\n",
       "      <td>Queenstown</td>\n",
       "      <td>no</td>\n",
       "      <td>True</td>\n",
       "    </tr>\n",
       "  </tbody>\n",
       "</table>\n",
       "</div>"
      ],
      "text/plain": [
       "     survived  pclass     sex   age  sibsp  parch   fare embarked   class  \\\n",
       "886         0       2    male  27.0      0      0  13.00        S  Second   \n",
       "887         1       1  female  19.0      0      0  30.00        S   First   \n",
       "888         0       3  female   NaN      1      2  23.45        S   Third   \n",
       "889         1       1    male  26.0      0      0  30.00        C   First   \n",
       "890         0       3    male  32.0      0      0   7.75        Q   Third   \n",
       "\n",
       "       who  adult_male deck  embark_town alive  alone  \n",
       "886    man        True  NaN  Southampton    no   True  \n",
       "887  woman       False    B  Southampton   yes   True  \n",
       "888  woman       False  NaN  Southampton    no  False  \n",
       "889    man        True    C    Cherbourg   yes   True  \n",
       "890    man        True  NaN   Queenstown    no   True  "
      ]
     },
     "execution_count": 4,
     "metadata": {},
     "output_type": "execute_result"
    }
   ],
   "source": [
    "df.tail()"
   ]
  },
  {
   "cell_type": "code",
   "execution_count": 5,
   "id": "ea769542",
   "metadata": {
    "execution": {
     "iopub.execute_input": "2024-05-06T22:49:05.880675Z",
     "iopub.status.busy": "2024-05-06T22:49:05.880252Z",
     "iopub.status.idle": "2024-05-06T22:49:05.886354Z",
     "shell.execute_reply": "2024-05-06T22:49:05.885564Z"
    },
    "papermill": {
     "duration": 0.026054,
     "end_time": "2024-05-06T22:49:05.888413",
     "exception": false,
     "start_time": "2024-05-06T22:49:05.862359",
     "status": "completed"
    },
    "tags": []
   },
   "outputs": [
    {
     "data": {
      "text/plain": [
       "Index(['survived', 'pclass', 'sex', 'age', 'sibsp', 'parch', 'fare',\n",
       "       'embarked', 'class', 'who', 'adult_male', 'deck', 'embark_town',\n",
       "       'alive', 'alone'],\n",
       "      dtype='object')"
      ]
     },
     "execution_count": 5,
     "metadata": {},
     "output_type": "execute_result"
    }
   ],
   "source": [
    "df.columns"
   ]
  },
  {
   "cell_type": "markdown",
   "id": "c528515e",
   "metadata": {
    "papermill": {
     "duration": 0.016813,
     "end_time": "2024-05-06T22:49:05.921822",
     "exception": false,
     "start_time": "2024-05-06T22:49:05.905009",
     "status": "completed"
    },
    "tags": []
   },
   "source": [
    "### The 'parch' and 'sibsp' both indicates the family group so we can create a column family_size which indicates the both and also change the survived name to survival for better correlation with other variables"
   ]
  },
  {
   "cell_type": "code",
   "execution_count": 6,
   "id": "0daa5913",
   "metadata": {
    "execution": {
     "iopub.execute_input": "2024-05-06T22:49:05.957751Z",
     "iopub.status.busy": "2024-05-06T22:49:05.957018Z",
     "iopub.status.idle": "2024-05-06T22:49:05.964284Z",
     "shell.execute_reply": "2024-05-06T22:49:05.963492Z"
    },
    "papermill": {
     "duration": 0.027465,
     "end_time": "2024-05-06T22:49:05.966203",
     "exception": false,
     "start_time": "2024-05-06T22:49:05.938738",
     "status": "completed"
    },
    "tags": []
   },
   "outputs": [],
   "source": [
    "df['family_size'] = df['sibsp'] + df['parch']\n",
    "df = df.rename(columns={'survived': 'survival'})"
   ]
  },
  {
   "cell_type": "code",
   "execution_count": 7,
   "id": "418688ac",
   "metadata": {
    "execution": {
     "iopub.execute_input": "2024-05-06T22:49:06.001540Z",
     "iopub.status.busy": "2024-05-06T22:49:06.001206Z",
     "iopub.status.idle": "2024-05-06T22:49:06.022223Z",
     "shell.execute_reply": "2024-05-06T22:49:06.021236Z"
    },
    "papermill": {
     "duration": 0.042192,
     "end_time": "2024-05-06T22:49:06.025378",
     "exception": false,
     "start_time": "2024-05-06T22:49:05.983186",
     "status": "completed"
    },
    "tags": []
   },
   "outputs": [
    {
     "name": "stdout",
     "output_type": "stream",
     "text": [
      "<class 'pandas.core.frame.DataFrame'>\n",
      "RangeIndex: 891 entries, 0 to 890\n",
      "Data columns (total 16 columns):\n",
      " #   Column       Non-Null Count  Dtype   \n",
      "---  ------       --------------  -----   \n",
      " 0   survival     891 non-null    int64   \n",
      " 1   pclass       891 non-null    int64   \n",
      " 2   sex          891 non-null    object  \n",
      " 3   age          714 non-null    float64 \n",
      " 4   sibsp        891 non-null    int64   \n",
      " 5   parch        891 non-null    int64   \n",
      " 6   fare         891 non-null    float64 \n",
      " 7   embarked     889 non-null    object  \n",
      " 8   class        891 non-null    category\n",
      " 9   who          891 non-null    object  \n",
      " 10  adult_male   891 non-null    bool    \n",
      " 11  deck         203 non-null    category\n",
      " 12  embark_town  889 non-null    object  \n",
      " 13  alive        891 non-null    object  \n",
      " 14  alone        891 non-null    bool    \n",
      " 15  family_size  891 non-null    int64   \n",
      "dtypes: bool(2), category(2), float64(2), int64(5), object(5)\n",
      "memory usage: 87.6+ KB\n"
     ]
    }
   ],
   "source": [
    "df.info()"
   ]
  },
  {
   "cell_type": "markdown",
   "id": "7fef42d7",
   "metadata": {
    "papermill": {
     "duration": 0.016808,
     "end_time": "2024-05-06T22:49:06.060338",
     "exception": false,
     "start_time": "2024-05-06T22:49:06.043530",
     "status": "completed"
    },
    "tags": []
   },
   "source": [
    "# Summary Of Data"
   ]
  },
  {
   "cell_type": "code",
   "execution_count": 8,
   "id": "cba18f73",
   "metadata": {
    "execution": {
     "iopub.execute_input": "2024-05-06T22:49:06.096604Z",
     "iopub.status.busy": "2024-05-06T22:49:06.095789Z",
     "iopub.status.idle": "2024-05-06T22:49:06.123435Z",
     "shell.execute_reply": "2024-05-06T22:49:06.122528Z"
    },
    "papermill": {
     "duration": 0.047971,
     "end_time": "2024-05-06T22:49:06.125434",
     "exception": false,
     "start_time": "2024-05-06T22:49:06.077463",
     "status": "completed"
    },
    "tags": []
   },
   "outputs": [
    {
     "data": {
      "text/html": [
       "<div>\n",
       "<style scoped>\n",
       "    .dataframe tbody tr th:only-of-type {\n",
       "        vertical-align: middle;\n",
       "    }\n",
       "\n",
       "    .dataframe tbody tr th {\n",
       "        vertical-align: top;\n",
       "    }\n",
       "\n",
       "    .dataframe thead th {\n",
       "        text-align: right;\n",
       "    }\n",
       "</style>\n",
       "<table border=\"1\" class=\"dataframe\">\n",
       "  <thead>\n",
       "    <tr style=\"text-align: right;\">\n",
       "      <th></th>\n",
       "      <th>survival</th>\n",
       "      <th>pclass</th>\n",
       "      <th>age</th>\n",
       "      <th>sibsp</th>\n",
       "      <th>parch</th>\n",
       "      <th>fare</th>\n",
       "      <th>family_size</th>\n",
       "    </tr>\n",
       "  </thead>\n",
       "  <tbody>\n",
       "    <tr>\n",
       "      <th>count</th>\n",
       "      <td>891.000000</td>\n",
       "      <td>891.000000</td>\n",
       "      <td>714.000000</td>\n",
       "      <td>891.000000</td>\n",
       "      <td>891.000000</td>\n",
       "      <td>891.000000</td>\n",
       "      <td>891.000000</td>\n",
       "    </tr>\n",
       "    <tr>\n",
       "      <th>mean</th>\n",
       "      <td>0.383838</td>\n",
       "      <td>2.308642</td>\n",
       "      <td>29.699118</td>\n",
       "      <td>0.523008</td>\n",
       "      <td>0.381594</td>\n",
       "      <td>32.204208</td>\n",
       "      <td>0.904602</td>\n",
       "    </tr>\n",
       "    <tr>\n",
       "      <th>std</th>\n",
       "      <td>0.486592</td>\n",
       "      <td>0.836071</td>\n",
       "      <td>14.526497</td>\n",
       "      <td>1.102743</td>\n",
       "      <td>0.806057</td>\n",
       "      <td>49.693429</td>\n",
       "      <td>1.613459</td>\n",
       "    </tr>\n",
       "    <tr>\n",
       "      <th>min</th>\n",
       "      <td>0.000000</td>\n",
       "      <td>1.000000</td>\n",
       "      <td>0.420000</td>\n",
       "      <td>0.000000</td>\n",
       "      <td>0.000000</td>\n",
       "      <td>0.000000</td>\n",
       "      <td>0.000000</td>\n",
       "    </tr>\n",
       "    <tr>\n",
       "      <th>25%</th>\n",
       "      <td>0.000000</td>\n",
       "      <td>2.000000</td>\n",
       "      <td>20.125000</td>\n",
       "      <td>0.000000</td>\n",
       "      <td>0.000000</td>\n",
       "      <td>7.910400</td>\n",
       "      <td>0.000000</td>\n",
       "    </tr>\n",
       "    <tr>\n",
       "      <th>50%</th>\n",
       "      <td>0.000000</td>\n",
       "      <td>3.000000</td>\n",
       "      <td>28.000000</td>\n",
       "      <td>0.000000</td>\n",
       "      <td>0.000000</td>\n",
       "      <td>14.454200</td>\n",
       "      <td>0.000000</td>\n",
       "    </tr>\n",
       "    <tr>\n",
       "      <th>75%</th>\n",
       "      <td>1.000000</td>\n",
       "      <td>3.000000</td>\n",
       "      <td>38.000000</td>\n",
       "      <td>1.000000</td>\n",
       "      <td>0.000000</td>\n",
       "      <td>31.000000</td>\n",
       "      <td>1.000000</td>\n",
       "    </tr>\n",
       "    <tr>\n",
       "      <th>max</th>\n",
       "      <td>1.000000</td>\n",
       "      <td>3.000000</td>\n",
       "      <td>80.000000</td>\n",
       "      <td>8.000000</td>\n",
       "      <td>6.000000</td>\n",
       "      <td>512.329200</td>\n",
       "      <td>10.000000</td>\n",
       "    </tr>\n",
       "  </tbody>\n",
       "</table>\n",
       "</div>"
      ],
      "text/plain": [
       "         survival      pclass         age       sibsp       parch        fare  \\\n",
       "count  891.000000  891.000000  714.000000  891.000000  891.000000  891.000000   \n",
       "mean     0.383838    2.308642   29.699118    0.523008    0.381594   32.204208   \n",
       "std      0.486592    0.836071   14.526497    1.102743    0.806057   49.693429   \n",
       "min      0.000000    1.000000    0.420000    0.000000    0.000000    0.000000   \n",
       "25%      0.000000    2.000000   20.125000    0.000000    0.000000    7.910400   \n",
       "50%      0.000000    3.000000   28.000000    0.000000    0.000000   14.454200   \n",
       "75%      1.000000    3.000000   38.000000    1.000000    0.000000   31.000000   \n",
       "max      1.000000    3.000000   80.000000    8.000000    6.000000  512.329200   \n",
       "\n",
       "       family_size  \n",
       "count   891.000000  \n",
       "mean      0.904602  \n",
       "std       1.613459  \n",
       "min       0.000000  \n",
       "25%       0.000000  \n",
       "50%       0.000000  \n",
       "75%       1.000000  \n",
       "max      10.000000  "
      ]
     },
     "execution_count": 8,
     "metadata": {},
     "output_type": "execute_result"
    }
   ],
   "source": [
    "df.describe()"
   ]
  },
  {
   "cell_type": "code",
   "execution_count": 9,
   "id": "5803387d",
   "metadata": {
    "execution": {
     "iopub.execute_input": "2024-05-06T22:49:06.161948Z",
     "iopub.status.busy": "2024-05-06T22:49:06.161590Z",
     "iopub.status.idle": "2024-05-06T22:49:06.795735Z",
     "shell.execute_reply": "2024-05-06T22:49:06.794381Z"
    },
    "papermill": {
     "duration": 0.655204,
     "end_time": "2024-05-06T22:49:06.798184",
     "exception": false,
     "start_time": "2024-05-06T22:49:06.142980",
     "status": "completed"
    },
    "tags": []
   },
   "outputs": [
    {
     "data": {
      "text/plain": [
       "<Axes: xlabel='survival', ylabel='age'>"
      ]
     },
     "execution_count": 9,
     "metadata": {},
     "output_type": "execute_result"
    },
    {
     "data": {
      "image/png": "[encoded data removed]",
      "text/plain": [
       "<Figure size 640x480 with 1 Axes>"
      ]
     },
     "metadata": {},
     "output_type": "display_data"
    }
   ],
   "source": [
    "sns.barplot(data=df,x='survival',y='age',hue='who')"
   ]
  },
  {
   "cell_type": "markdown",
   "id": "9ea2641f",
   "metadata": {
    "papermill": {
     "duration": 0.019186,
     "end_time": "2024-05-06T22:49:06.838680",
     "exception": false,
     "start_time": "2024-05-06T22:49:06.819494",
     "status": "completed"
    },
    "tags": []
   },
   "source": [
    "# Bar plot of survival by sex"
   ]
  },
  {
   "cell_type": "code",
   "execution_count": 10,
   "id": "6a49deeb",
   "metadata": {
    "execution": {
     "iopub.execute_input": "2024-05-06T22:49:06.876797Z",
     "iopub.status.busy": "2024-05-06T22:49:06.875883Z",
     "iopub.status.idle": "2024-05-06T22:49:07.138880Z",
     "shell.execute_reply": "2024-05-06T22:49:07.137834Z"
    },
    "papermill": {
     "duration": 0.284382,
     "end_time": "2024-05-06T22:49:07.141081",
     "exception": false,
     "start_time": "2024-05-06T22:49:06.856699",
     "status": "completed"
    },
    "tags": []
   },
   "outputs": [
    {
     "data": {
      "image/png": "[encoded data removed]",
      "text/plain": [
       "<Figure size 800x600 with 1 Axes>"
      ]
     },
     "metadata": {},
     "output_type": "display_data"
    }
   ],
   "source": [
    "# Distribution of variables\n",
    "import seaborn as sns\n",
    "import matplotlib.pyplot as plt\n",
    "# Bar plot of survival by sex\n",
    "plt.figure(figsize=(8, 6))\n",
    "sns.countplot(x='who', hue='survival', data=df)\n",
    "plt.title('Survival Count by Sex')\n",
    "plt.xlabel('Sex')\n",
    "plt.ylabel('Count')\n",
    "plt.legend(title='Sex', loc='upper right')\n",
    "plt.show()"
   ]
  },
  {
   "cell_type": "markdown",
   "id": "3abb25f4",
   "metadata": {
    "papermill": {
     "duration": 0.018049,
     "end_time": "2024-05-06T22:49:07.177523",
     "exception": false,
     "start_time": "2024-05-06T22:49:07.159474",
     "status": "completed"
    },
    "tags": []
   },
   "source": [
    "# Calculate survival counts for females and males"
   ]
  },
  {
   "cell_type": "code",
   "execution_count": 11,
   "id": "94897952",
   "metadata": {
    "execution": {
     "iopub.execute_input": "2024-05-06T22:49:07.215884Z",
     "iopub.status.busy": "2024-05-06T22:49:07.215006Z",
     "iopub.status.idle": "2024-05-06T22:49:07.224515Z",
     "shell.execute_reply": "2024-05-06T22:49:07.223274Z"
    },
    "papermill": {
     "duration": 0.03094,
     "end_time": "2024-05-06T22:49:07.226560",
     "exception": false,
     "start_time": "2024-05-06T22:49:07.195620",
     "status": "completed"
    },
    "tags": []
   },
   "outputs": [
    {
     "name": "stdout",
     "output_type": "stream",
     "text": [
      "More females survived compared to males.\n"
     ]
    }
   ],
   "source": [
    "\n",
    "# Calculate survival counts for females and males\n",
    "survived_females = df[(df['sex'] == 'female') & (df['survival'] == 1)].shape[0]\n",
    "survived_males = df[(df['sex'] == 'male') & (df['survival'] == 1)].shape[0]\n",
    "\n",
    "# Compare survival counts\n",
    "if survived_females > survived_males:\n",
    "    print(\"More females survived compared to males.\")\n",
    "elif survived_females < survived_males:\n",
    "    print(\"More males survived compared to females.\")\n",
    "else:\n",
    "    print(\"Equal number of females and males survived.\")\n"
   ]
  },
  {
   "cell_type": "markdown",
   "id": "be946022",
   "metadata": {
    "papermill": {
     "duration": 0.018307,
     "end_time": "2024-05-06T22:49:07.263535",
     "exception": false,
     "start_time": "2024-05-06T22:49:07.245228",
     "status": "completed"
    },
    "tags": []
   },
   "source": [
    "# Calculate the total number of passengers"
   ]
  },
  {
   "cell_type": "code",
   "execution_count": 12,
   "id": "d9da1aa0",
   "metadata": {
    "execution": {
     "iopub.execute_input": "2024-05-06T22:49:07.357939Z",
     "iopub.status.busy": "2024-05-06T22:49:07.357581Z",
     "iopub.status.idle": "2024-05-06T22:49:07.366557Z",
     "shell.execute_reply": "2024-05-06T22:49:07.365387Z"
    },
    "papermill": {
     "duration": 0.030869,
     "end_time": "2024-05-06T22:49:07.368524",
     "exception": false,
     "start_time": "2024-05-06T22:49:07.337655",
     "status": "completed"
    },
    "tags": []
   },
   "outputs": [
    {
     "name": "stdout",
     "output_type": "stream",
     "text": [
      "Most passengers were not between 20 and 40 years old.\n"
     ]
    }
   ],
   "source": [
    "# Calculate the total number of passengers\n",
    "total_passengers = len(df)\n",
    "\n",
    "# Define the age range (20 to 40 years old)\n",
    "age_range = df[(df['age'] >= 20) & (df['age'] <= 40)]\n",
    "\n",
    "# Calculate the number of passengers within the age range\n",
    "passengers_in_age_range = len(age_range)\n",
    "\n",
    "# Calculate the proportion of passengers within the age range\n",
    "proportion_in_age_range = passengers_in_age_range / total_passengers\n",
    "\n",
    "# Define a threshold for considering \"most\" passengers\n",
    "threshold = 0.5  # Assuming \"most\" means more than 50%\n",
    "\n",
    "# Check if the proportion of passengers within the age range exceeds the threshold\n",
    "if proportion_in_age_range > threshold:\n",
    "    print(\"Most passengers were between 20 and 80 years old.\")\n",
    "else:\n",
    "    print(\"Most passengers were not between 20 and 40 years old.\")\n"
   ]
  },
  {
   "cell_type": "markdown",
   "id": "3409dcc9",
   "metadata": {
    "papermill": {
     "duration": 0.018916,
     "end_time": "2024-05-06T22:49:07.408040",
     "exception": false,
     "start_time": "2024-05-06T22:49:07.389124",
     "status": "completed"
    },
    "tags": []
   },
   "source": [
    "# Scatter plot of age vs. fare"
   ]
  },
  {
   "cell_type": "code",
   "execution_count": 13,
   "id": "c773b564",
   "metadata": {
    "execution": {
     "iopub.execute_input": "2024-05-06T22:49:07.448573Z",
     "iopub.status.busy": "2024-05-06T22:49:07.447819Z",
     "iopub.status.idle": "2024-05-06T22:49:07.814217Z",
     "shell.execute_reply": "2024-05-06T22:49:07.813247Z"
    },
    "papermill": {
     "duration": 0.389669,
     "end_time": "2024-05-06T22:49:07.817078",
     "exception": false,
     "start_time": "2024-05-06T22:49:07.427409",
     "status": "completed"
    },
    "tags": []
   },
   "outputs": [
    {
     "data": {
      "image/png": "[encoded data removed]",
      "text/plain": [
       "<Figure size 800x600 with 1 Axes>"
      ]
     },
     "metadata": {},
     "output_type": "display_data"
    }
   ],
   "source": [
    "\n",
    "plt.figure(figsize=(8, 6))\n",
    "sns.scatterplot(x='age', y='fare', hue='survival', data=df)\n",
    "plt.title('Age vs. Fare by Survival')\n",
    "plt.xlabel('Age')\n",
    "plt.ylabel('Fare')\n",
    "plt.legend(title='Survived', loc='upper right')\n",
    "plt.show()"
   ]
  },
  {
   "cell_type": "markdown",
   "id": "b45c326b",
   "metadata": {
    "papermill": {
     "duration": 0.019741,
     "end_time": "2024-05-06T22:49:07.856634",
     "exception": false,
     "start_time": "2024-05-06T22:49:07.836893",
     "status": "completed"
    },
    "tags": []
   },
   "source": [
    "### This plot give us the info that some persons between age 30-40 in the titanic can pay more fare as compared to others "
   ]
  },
  {
   "cell_type": "code",
   "execution_count": 14,
   "id": "0c9f186b",
   "metadata": {
    "execution": {
     "iopub.execute_input": "2024-05-06T22:49:07.898332Z",
     "iopub.status.busy": "2024-05-06T22:49:07.897710Z",
     "iopub.status.idle": "2024-05-06T22:49:08.125701Z",
     "shell.execute_reply": "2024-05-06T22:49:08.124770Z"
    },
    "papermill": {
     "duration": 0.251333,
     "end_time": "2024-05-06T22:49:08.127865",
     "exception": false,
     "start_time": "2024-05-06T22:49:07.876532",
     "status": "completed"
    },
    "tags": []
   },
   "outputs": [
    {
     "data": {
      "text/plain": [
       "<Axes: xlabel='sex', ylabel='fare'>"
      ]
     },
     "execution_count": 14,
     "metadata": {},
     "output_type": "execute_result"
    },
    {
     "data": {
      "image/png": "[encoded data removed]",
      "text/plain": [
       "<Figure size 640x480 with 1 Axes>"
      ]
     },
     "metadata": {},
     "output_type": "display_data"
    }
   ],
   "source": [
    "sns.boxplot(df,y='fare' ,x='sex')"
   ]
  },
  {
   "cell_type": "markdown",
   "id": "673b252a",
   "metadata": {
    "papermill": {
     "duration": 0.019923,
     "end_time": "2024-05-06T22:49:08.168132",
     "exception": false,
     "start_time": "2024-05-06T22:49:08.148209",
     "status": "completed"
    },
    "tags": []
   },
   "source": [
    "### This box plot show us that in man or females some  pay more fair  "
   ]
  },
  {
   "cell_type": "code",
   "execution_count": 15,
   "id": "b77ad3a5",
   "metadata": {
    "execution": {
     "iopub.execute_input": "2024-05-06T22:49:08.210284Z",
     "iopub.status.busy": "2024-05-06T22:49:08.209424Z",
     "iopub.status.idle": "2024-05-06T22:49:08.729038Z",
     "shell.execute_reply": "2024-05-06T22:49:08.727811Z"
    },
    "papermill": {
     "duration": 0.543443,
     "end_time": "2024-05-06T22:49:08.731660",
     "exception": false,
     "start_time": "2024-05-06T22:49:08.188217",
     "status": "completed"
    },
    "tags": []
   },
   "outputs": [
    {
     "data": {
      "text/plain": [
       "<Axes: xlabel='fare', ylabel='Count'>"
      ]
     },
     "execution_count": 15,
     "metadata": {},
     "output_type": "execute_result"
    },
    {
     "data": {
      "image/png": "[encoded data removed]",
      "text/plain": [
       "<Figure size 640x480 with 1 Axes>"
      ]
     },
     "metadata": {},
     "output_type": "display_data"
    }
   ],
   "source": [
    "sns.histplot(df,x='fare' , kde=1)"
   ]
  },
  {
   "cell_type": "code",
   "execution_count": 16,
   "id": "eba81ad5",
   "metadata": {
    "execution": {
     "iopub.execute_input": "2024-05-06T22:49:08.780154Z",
     "iopub.status.busy": "2024-05-06T22:49:08.779285Z",
     "iopub.status.idle": "2024-05-06T22:49:09.192062Z",
     "shell.execute_reply": "2024-05-06T22:49:09.190913Z"
    },
    "papermill": {
     "duration": 0.440003,
     "end_time": "2024-05-06T22:49:09.194777",
     "exception": false,
     "start_time": "2024-05-06T22:49:08.754774",
     "status": "completed"
    },
    "tags": []
   },
   "outputs": [
    {
     "data": {
      "text/plain": [
       "<Axes: xlabel='age', ylabel='Count'>"
      ]
     },
     "execution_count": 16,
     "metadata": {},
     "output_type": "execute_result"
    },
    {
     "data": {
      "image/png": "[encoded data removed]",
      "text/plain": [
       "<Figure size 640x480 with 1 Axes>"
      ]
     },
     "metadata": {},
     "output_type": "display_data"
    }
   ],
   "source": [
    "sns.histplot(df,x='age',kde=1)"
   ]
  },
  {
   "cell_type": "markdown",
   "id": "dd18fd1d",
   "metadata": {
    "papermill": {
     "duration": 0.022879,
     "end_time": "2024-05-06T22:49:09.241062",
     "exception": false,
     "start_time": "2024-05-06T22:49:09.218183",
     "status": "completed"
    },
    "tags": []
   },
   "source": [
    "### this plot gives info that 20-40 aged persons are more than others in titanic"
   ]
  },
  {
   "cell_type": "markdown",
   "id": "f5158e08",
   "metadata": {
    "papermill": {
     "duration": 0.021902,
     "end_time": "2024-05-06T22:49:09.285720",
     "exception": false,
     "start_time": "2024-05-06T22:49:09.263818",
     "status": "completed"
    },
    "tags": []
   },
   "source": [
    "# Data Cleaning"
   ]
  },
  {
   "cell_type": "markdown",
   "id": "24b44d93",
   "metadata": {
    "papermill": {
     "duration": 0.022119,
     "end_time": "2024-05-06T22:49:09.330223",
     "exception": false,
     "start_time": "2024-05-06T22:49:09.308104",
     "status": "completed"
    },
    "tags": []
   },
   "source": [
    "## 1- first deal with missing values"
   ]
  },
  {
   "cell_type": "code",
   "execution_count": 17,
   "id": "ac6cc2e4",
   "metadata": {
    "execution": {
     "iopub.execute_input": "2024-05-06T22:49:09.376303Z",
     "iopub.status.busy": "2024-05-06T22:49:09.375440Z",
     "iopub.status.idle": "2024-05-06T22:49:09.386646Z",
     "shell.execute_reply": "2024-05-06T22:49:09.385690Z"
    },
    "papermill": {
     "duration": 0.036652,
     "end_time": "2024-05-06T22:49:09.388853",
     "exception": false,
     "start_time": "2024-05-06T22:49:09.352201",
     "status": "completed"
    },
    "tags": []
   },
   "outputs": [
    {
     "data": {
      "text/plain": [
       "survival        0.000000\n",
       "pclass          0.000000\n",
       "sex             0.000000\n",
       "age            19.865320\n",
       "sibsp           0.000000\n",
       "parch           0.000000\n",
       "fare            0.000000\n",
       "embarked        0.224467\n",
       "class           0.000000\n",
       "who             0.000000\n",
       "adult_male      0.000000\n",
       "deck           77.216611\n",
       "embark_town     0.224467\n",
       "alive           0.000000\n",
       "alone           0.000000\n",
       "family_size     0.000000\n",
       "dtype: float64"
      ]
     },
     "execution_count": 17,
     "metadata": {},
     "output_type": "execute_result"
    }
   ],
   "source": [
    "# check missing values in percentage\n",
    "df.isnull().sum() /len(df) * 100"
   ]
  },
  {
   "cell_type": "code",
   "execution_count": 18,
   "id": "21428a14",
   "metadata": {
    "execution": {
     "iopub.execute_input": "2024-05-06T22:49:09.436776Z",
     "iopub.status.busy": "2024-05-06T22:49:09.436397Z",
     "iopub.status.idle": "2024-05-06T22:49:09.839537Z",
     "shell.execute_reply": "2024-05-06T22:49:09.838537Z"
    },
    "papermill": {
     "duration": 0.429283,
     "end_time": "2024-05-06T22:49:09.841942",
     "exception": false,
     "start_time": "2024-05-06T22:49:09.412659",
     "status": "completed"
    },
    "tags": []
   },
   "outputs": [
    {
     "data": {
      "text/plain": [
       "<Axes: >"
      ]
     },
     "execution_count": 18,
     "metadata": {},
     "output_type": "execute_result"
    },
    {
     "data": {
      "image/png": "[encoded data removed]",
      "text/plain": [
       "<Figure size 640x480 with 2 Axes>"
      ]
     },
     "metadata": {},
     "output_type": "display_data"
    }
   ],
   "source": [
    "sns.heatmap(df.isnull(),yticklabels=False,cbar=True,cmap='viridis')"
   ]
  },
  {
   "cell_type": "markdown",
   "id": "8b860336",
   "metadata": {
    "papermill": {
     "duration": 0.02291,
     "end_time": "2024-05-06T22:49:09.887581",
     "exception": false,
     "start_time": "2024-05-06T22:49:09.864671",
     "status": "completed"
    },
    "tags": []
   },
   "source": [
    "### The deck NaN values is more than 77 percent so this column is not such important so we remove this column "
   ]
  },
  {
   "cell_type": "code",
   "execution_count": 19,
   "id": "ad421d9c",
   "metadata": {
    "execution": {
     "iopub.execute_input": "2024-05-06T22:49:09.935201Z",
     "iopub.status.busy": "2024-05-06T22:49:09.934831Z",
     "iopub.status.idle": "2024-05-06T22:49:09.960148Z",
     "shell.execute_reply": "2024-05-06T22:49:09.959040Z"
    },
    "papermill": {
     "duration": 0.052281,
     "end_time": "2024-05-06T22:49:09.962634",
     "exception": false,
     "start_time": "2024-05-06T22:49:09.910353",
     "status": "completed"
    },
    "tags": []
   },
   "outputs": [
    {
     "data": {
      "text/html": [
       "<div>\n",
       "<style scoped>\n",
       "    .dataframe tbody tr th:only-of-type {\n",
       "        vertical-align: middle;\n",
       "    }\n",
       "\n",
       "    .dataframe tbody tr th {\n",
       "        vertical-align: top;\n",
       "    }\n",
       "\n",
       "    .dataframe thead th {\n",
       "        text-align: right;\n",
       "    }\n",
       "</style>\n",
       "<table border=\"1\" class=\"dataframe\">\n",
       "  <thead>\n",
       "    <tr style=\"text-align: right;\">\n",
       "      <th></th>\n",
       "      <th>survival</th>\n",
       "      <th>pclass</th>\n",
       "      <th>sex</th>\n",
       "      <th>age</th>\n",
       "      <th>sibsp</th>\n",
       "      <th>parch</th>\n",
       "      <th>fare</th>\n",
       "      <th>embarked</th>\n",
       "      <th>class</th>\n",
       "      <th>who</th>\n",
       "      <th>adult_male</th>\n",
       "      <th>embark_town</th>\n",
       "      <th>alive</th>\n",
       "      <th>alone</th>\n",
       "      <th>family_size</th>\n",
       "    </tr>\n",
       "  </thead>\n",
       "  <tbody>\n",
       "    <tr>\n",
       "      <th>0</th>\n",
       "      <td>0</td>\n",
       "      <td>3</td>\n",
       "      <td>male</td>\n",
       "      <td>22.0</td>\n",
       "      <td>1</td>\n",
       "      <td>0</td>\n",
       "      <td>7.2500</td>\n",
       "      <td>S</td>\n",
       "      <td>Third</td>\n",
       "      <td>man</td>\n",
       "      <td>True</td>\n",
       "      <td>Southampton</td>\n",
       "      <td>no</td>\n",
       "      <td>False</td>\n",
       "      <td>1</td>\n",
       "    </tr>\n",
       "    <tr>\n",
       "      <th>1</th>\n",
       "      <td>1</td>\n",
       "      <td>1</td>\n",
       "      <td>female</td>\n",
       "      <td>38.0</td>\n",
       "      <td>1</td>\n",
       "      <td>0</td>\n",
       "      <td>71.2833</td>\n",
       "      <td>C</td>\n",
       "      <td>First</td>\n",
       "      <td>woman</td>\n",
       "      <td>False</td>\n",
       "      <td>Cherbourg</td>\n",
       "      <td>yes</td>\n",
       "      <td>False</td>\n",
       "      <td>1</td>\n",
       "    </tr>\n",
       "    <tr>\n",
       "      <th>2</th>\n",
       "      <td>1</td>\n",
       "      <td>3</td>\n",
       "      <td>female</td>\n",
       "      <td>26.0</td>\n",
       "      <td>0</td>\n",
       "      <td>0</td>\n",
       "      <td>7.9250</td>\n",
       "      <td>S</td>\n",
       "      <td>Third</td>\n",
       "      <td>woman</td>\n",
       "      <td>False</td>\n",
       "      <td>Southampton</td>\n",
       "      <td>yes</td>\n",
       "      <td>True</td>\n",
       "      <td>0</td>\n",
       "    </tr>\n",
       "    <tr>\n",
       "      <th>3</th>\n",
       "      <td>1</td>\n",
       "      <td>1</td>\n",
       "      <td>female</td>\n",
       "      <td>35.0</td>\n",
       "      <td>1</td>\n",
       "      <td>0</td>\n",
       "      <td>53.1000</td>\n",
       "      <td>S</td>\n",
       "      <td>First</td>\n",
       "      <td>woman</td>\n",
       "      <td>False</td>\n",
       "      <td>Southampton</td>\n",
       "      <td>yes</td>\n",
       "      <td>False</td>\n",
       "      <td>1</td>\n",
       "    </tr>\n",
       "    <tr>\n",
       "      <th>4</th>\n",
       "      <td>0</td>\n",
       "      <td>3</td>\n",
       "      <td>male</td>\n",
       "      <td>35.0</td>\n",
       "      <td>0</td>\n",
       "      <td>0</td>\n",
       "      <td>8.0500</td>\n",
       "      <td>S</td>\n",
       "      <td>Third</td>\n",
       "      <td>man</td>\n",
       "      <td>True</td>\n",
       "      <td>Southampton</td>\n",
       "      <td>no</td>\n",
       "      <td>True</td>\n",
       "      <td>0</td>\n",
       "    </tr>\n",
       "    <tr>\n",
       "      <th>...</th>\n",
       "      <td>...</td>\n",
       "      <td>...</td>\n",
       "      <td>...</td>\n",
       "      <td>...</td>\n",
       "      <td>...</td>\n",
       "      <td>...</td>\n",
       "      <td>...</td>\n",
       "      <td>...</td>\n",
       "      <td>...</td>\n",
       "      <td>...</td>\n",
       "      <td>...</td>\n",
       "      <td>...</td>\n",
       "      <td>...</td>\n",
       "      <td>...</td>\n",
       "      <td>...</td>\n",
       "    </tr>\n",
       "    <tr>\n",
       "      <th>886</th>\n",
       "      <td>0</td>\n",
       "      <td>2</td>\n",
       "      <td>male</td>\n",
       "      <td>27.0</td>\n",
       "      <td>0</td>\n",
       "      <td>0</td>\n",
       "      <td>13.0000</td>\n",
       "      <td>S</td>\n",
       "      <td>Second</td>\n",
       "      <td>man</td>\n",
       "      <td>True</td>\n",
       "      <td>Southampton</td>\n",
       "      <td>no</td>\n",
       "      <td>True</td>\n",
       "      <td>0</td>\n",
       "    </tr>\n",
       "    <tr>\n",
       "      <th>887</th>\n",
       "      <td>1</td>\n",
       "      <td>1</td>\n",
       "      <td>female</td>\n",
       "      <td>19.0</td>\n",
       "      <td>0</td>\n",
       "      <td>0</td>\n",
       "      <td>30.0000</td>\n",
       "      <td>S</td>\n",
       "      <td>First</td>\n",
       "      <td>woman</td>\n",
       "      <td>False</td>\n",
       "      <td>Southampton</td>\n",
       "      <td>yes</td>\n",
       "      <td>True</td>\n",
       "      <td>0</td>\n",
       "    </tr>\n",
       "    <tr>\n",
       "      <th>888</th>\n",
       "      <td>0</td>\n",
       "      <td>3</td>\n",
       "      <td>female</td>\n",
       "      <td>NaN</td>\n",
       "      <td>1</td>\n",
       "      <td>2</td>\n",
       "      <td>23.4500</td>\n",
       "      <td>S</td>\n",
       "      <td>Third</td>\n",
       "      <td>woman</td>\n",
       "      <td>False</td>\n",
       "      <td>Southampton</td>\n",
       "      <td>no</td>\n",
       "      <td>False</td>\n",
       "      <td>3</td>\n",
       "    </tr>\n",
       "    <tr>\n",
       "      <th>889</th>\n",
       "      <td>1</td>\n",
       "      <td>1</td>\n",
       "      <td>male</td>\n",
       "      <td>26.0</td>\n",
       "      <td>0</td>\n",
       "      <td>0</td>\n",
       "      <td>30.0000</td>\n",
       "      <td>C</td>\n",
       "      <td>First</td>\n",
       "      <td>man</td>\n",
       "      <td>True</td>\n",
       "      <td>Cherbourg</td>\n",
       "      <td>yes</td>\n",
       "      <td>True</td>\n",
       "      <td>0</td>\n",
       "    </tr>\n",
       "    <tr>\n",
       "      <th>890</th>\n",
       "      <td>0</td>\n",
       "      <td>3</td>\n",
       "      <td>male</td>\n",
       "      <td>32.0</td>\n",
       "      <td>0</td>\n",
       "      <td>0</td>\n",
       "      <td>7.7500</td>\n",
       "      <td>Q</td>\n",
       "      <td>Third</td>\n",
       "      <td>man</td>\n",
       "      <td>True</td>\n",
       "      <td>Queenstown</td>\n",
       "      <td>no</td>\n",
       "      <td>True</td>\n",
       "      <td>0</td>\n",
       "    </tr>\n",
       "  </tbody>\n",
       "</table>\n",
       "<p>891 rows × 15 columns</p>\n",
       "</div>"
      ],
      "text/plain": [
       "     survival  pclass     sex   age  sibsp  parch     fare embarked   class  \\\n",
       "0           0       3    male  22.0      1      0   7.2500        S   Third   \n",
       "1           1       1  female  38.0      1      0  71.2833        C   First   \n",
       "2           1       3  female  26.0      0      0   7.9250        S   Third   \n",
       "3           1       1  female  35.0      1      0  53.1000        S   First   \n",
       "4           0       3    male  35.0      0      0   8.0500        S   Third   \n",
       "..        ...     ...     ...   ...    ...    ...      ...      ...     ...   \n",
       "886         0       2    male  27.0      0      0  13.0000        S  Second   \n",
       "887         1       1  female  19.0      0      0  30.0000        S   First   \n",
       "888         0       3  female   NaN      1      2  23.4500        S   Third   \n",
       "889         1       1    male  26.0      0      0  30.0000        C   First   \n",
       "890         0       3    male  32.0      0      0   7.7500        Q   Third   \n",
       "\n",
       "       who  adult_male  embark_town alive  alone  family_size  \n",
       "0      man        True  Southampton    no  False            1  \n",
       "1    woman       False    Cherbourg   yes  False            1  \n",
       "2    woman       False  Southampton   yes   True            0  \n",
       "3    woman       False  Southampton   yes  False            1  \n",
       "4      man        True  Southampton    no   True            0  \n",
       "..     ...         ...          ...   ...    ...          ...  \n",
       "886    man        True  Southampton    no   True            0  \n",
       "887  woman       False  Southampton   yes   True            0  \n",
       "888  woman       False  Southampton    no  False            3  \n",
       "889    man        True    Cherbourg   yes   True            0  \n",
       "890    man        True   Queenstown    no   True            0  \n",
       "\n",
       "[891 rows x 15 columns]"
      ]
     },
     "execution_count": 19,
     "metadata": {},
     "output_type": "execute_result"
    }
   ],
   "source": [
    "\n",
    "df.drop(columns='deck', inplace=True)\n",
    "df"
   ]
  },
  {
   "cell_type": "markdown",
   "id": "3f01c61f",
   "metadata": {
    "papermill": {
     "duration": 0.022857,
     "end_time": "2024-05-06T22:49:10.010737",
     "exception": false,
     "start_time": "2024-05-06T22:49:09.987880",
     "status": "completed"
    },
    "tags": []
   },
   "source": [
    "Now we impute the NaN values with mean median mode to remove further NaN values"
   ]
  },
  {
   "cell_type": "code",
   "execution_count": 20,
   "id": "8b2e1cb2",
   "metadata": {
    "execution": {
     "iopub.execute_input": "2024-05-06T22:49:10.058706Z",
     "iopub.status.busy": "2024-05-06T22:49:10.057982Z",
     "iopub.status.idle": "2024-05-06T22:49:10.066754Z",
     "shell.execute_reply": "2024-05-06T22:49:10.065817Z"
    },
    "papermill": {
     "duration": 0.034832,
     "end_time": "2024-05-06T22:49:10.068660",
     "exception": false,
     "start_time": "2024-05-06T22:49:10.033828",
     "status": "completed"
    },
    "tags": []
   },
   "outputs": [],
   "source": [
    "df['age'] = df.age.fillna(value=df['age'].mean())\n",
    "df['embarked'] = df.embarked.fillna(value=df['embarked'].mode()[0])\n",
    "df['embark_town'] = df.embark_town.fillna(value=df['embark_town'].mode()[0])"
   ]
  },
  {
   "cell_type": "code",
   "execution_count": 21,
   "id": "e87eec84",
   "metadata": {
    "execution": {
     "iopub.execute_input": "2024-05-06T22:49:10.118361Z",
     "iopub.status.busy": "2024-05-06T22:49:10.117999Z",
     "iopub.status.idle": "2024-05-06T22:49:10.128322Z",
     "shell.execute_reply": "2024-05-06T22:49:10.127358Z"
    },
    "papermill": {
     "duration": 0.036614,
     "end_time": "2024-05-06T22:49:10.130237",
     "exception": false,
     "start_time": "2024-05-06T22:49:10.093623",
     "status": "completed"
    },
    "tags": []
   },
   "outputs": [
    {
     "data": {
      "text/plain": [
       "survival       0.0\n",
       "pclass         0.0\n",
       "sex            0.0\n",
       "age            0.0\n",
       "sibsp          0.0\n",
       "parch          0.0\n",
       "fare           0.0\n",
       "embarked       0.0\n",
       "class          0.0\n",
       "who            0.0\n",
       "adult_male     0.0\n",
       "embark_town    0.0\n",
       "alive          0.0\n",
       "alone          0.0\n",
       "family_size    0.0\n",
       "dtype: float64"
      ]
     },
     "execution_count": 21,
     "metadata": {},
     "output_type": "execute_result"
    }
   ],
   "source": [
    "df.isnull().sum() /len(df) * 100"
   ]
  },
  {
   "cell_type": "code",
   "execution_count": 22,
   "id": "7c286d98",
   "metadata": {
    "execution": {
     "iopub.execute_input": "2024-05-06T22:49:10.178689Z",
     "iopub.status.busy": "2024-05-06T22:49:10.177811Z",
     "iopub.status.idle": "2024-05-06T22:49:10.429509Z",
     "shell.execute_reply": "2024-05-06T22:49:10.428601Z"
    },
    "papermill": {
     "duration": 0.278238,
     "end_time": "2024-05-06T22:49:10.431631",
     "exception": false,
     "start_time": "2024-05-06T22:49:10.153393",
     "status": "completed"
    },
    "tags": []
   },
   "outputs": [
    {
     "data": {
      "text/plain": [
       "<Axes: >"
      ]
     },
     "execution_count": 22,
     "metadata": {},
     "output_type": "execute_result"
    },
    {
     "data": {
      "image/png": "[encoded data removed]",
      "text/plain": [
       "<Figure size 640x480 with 1 Axes>"
      ]
     },
     "metadata": {},
     "output_type": "display_data"
    }
   ],
   "source": [
    "sns.heatmap(df.isnull(),yticklabels=False,cbar=False,cmap='viridis')"
   ]
  },
  {
   "cell_type": "markdown",
   "id": "9f9cfb34",
   "metadata": {
    "papermill": {
     "duration": 0.024777,
     "end_time": "2024-05-06T22:49:10.480784",
     "exception": false,
     "start_time": "2024-05-06T22:49:10.456007",
     "status": "completed"
    },
    "tags": []
   },
   "source": [
    "## 2- Finding And Dropping Duplicates"
   ]
  },
  {
   "cell_type": "code",
   "execution_count": 23,
   "id": "f00d22af",
   "metadata": {
    "execution": {
     "iopub.execute_input": "2024-05-06T22:49:10.530269Z",
     "iopub.status.busy": "2024-05-06T22:49:10.529408Z",
     "iopub.status.idle": "2024-05-06T22:49:10.535470Z",
     "shell.execute_reply": "2024-05-06T22:49:10.534617Z"
    },
    "papermill": {
     "duration": 0.032997,
     "end_time": "2024-05-06T22:49:10.537480",
     "exception": false,
     "start_time": "2024-05-06T22:49:10.504483",
     "status": "completed"
    },
    "tags": []
   },
   "outputs": [
    {
     "data": {
      "text/plain": [
       "(891, 15)"
      ]
     },
     "execution_count": 23,
     "metadata": {},
     "output_type": "execute_result"
    }
   ],
   "source": [
    "df.shape"
   ]
  },
  {
   "cell_type": "code",
   "execution_count": 24,
   "id": "11478149",
   "metadata": {
    "execution": {
     "iopub.execute_input": "2024-05-06T22:49:10.587066Z",
     "iopub.status.busy": "2024-05-06T22:49:10.586389Z",
     "iopub.status.idle": "2024-05-06T22:49:10.596224Z",
     "shell.execute_reply": "2024-05-06T22:49:10.595334Z"
    },
    "papermill": {
     "duration": 0.036604,
     "end_time": "2024-05-06T22:49:10.598171",
     "exception": false,
     "start_time": "2024-05-06T22:49:10.561567",
     "status": "completed"
    },
    "tags": []
   },
   "outputs": [
    {
     "data": {
      "text/plain": [
       "111"
      ]
     },
     "execution_count": 24,
     "metadata": {},
     "output_type": "execute_result"
    }
   ],
   "source": [
    "df.duplicated().sum()"
   ]
  },
  {
   "cell_type": "code",
   "execution_count": 25,
   "id": "2e1e0958",
   "metadata": {
    "execution": {
     "iopub.execute_input": "2024-05-06T22:49:10.649123Z",
     "iopub.status.busy": "2024-05-06T22:49:10.648370Z",
     "iopub.status.idle": "2024-05-06T22:49:10.656304Z",
     "shell.execute_reply": "2024-05-06T22:49:10.655271Z"
    },
    "papermill": {
     "duration": 0.035774,
     "end_time": "2024-05-06T22:49:10.658406",
     "exception": false,
     "start_time": "2024-05-06T22:49:10.622632",
     "status": "completed"
    },
    "tags": []
   },
   "outputs": [],
   "source": [
    "df.drop_duplicates(inplace=True)"
   ]
  },
  {
   "cell_type": "code",
   "execution_count": 26,
   "id": "12dcc051",
   "metadata": {
    "execution": {
     "iopub.execute_input": "2024-05-06T22:49:10.708790Z",
     "iopub.status.busy": "2024-05-06T22:49:10.708122Z",
     "iopub.status.idle": "2024-05-06T22:49:10.714164Z",
     "shell.execute_reply": "2024-05-06T22:49:10.713239Z"
    },
    "papermill": {
     "duration": 0.03362,
     "end_time": "2024-05-06T22:49:10.716360",
     "exception": false,
     "start_time": "2024-05-06T22:49:10.682740",
     "status": "completed"
    },
    "tags": []
   },
   "outputs": [
    {
     "data": {
      "text/plain": [
       "(780, 15)"
      ]
     },
     "execution_count": 26,
     "metadata": {},
     "output_type": "execute_result"
    }
   ],
   "source": [
    "df.shape"
   ]
  },
  {
   "cell_type": "markdown",
   "id": "857bd49a",
   "metadata": {
    "papermill": {
     "duration": 0.023967,
     "end_time": "2024-05-06T22:49:10.764368",
     "exception": false,
     "start_time": "2024-05-06T22:49:10.740401",
     "status": "completed"
    },
    "tags": []
   },
   "source": [
    "## 3- Outliers removal\n",
    "### i) step 1- visualization"
   ]
  },
  {
   "cell_type": "code",
   "execution_count": 27,
   "id": "0abbfacf",
   "metadata": {
    "execution": {
     "iopub.execute_input": "2024-05-06T22:49:10.814667Z",
     "iopub.status.busy": "2024-05-06T22:49:10.814218Z",
     "iopub.status.idle": "2024-05-06T22:49:10.987845Z",
     "shell.execute_reply": "2024-05-06T22:49:10.986874Z"
    },
    "papermill": {
     "duration": 0.201443,
     "end_time": "2024-05-06T22:49:10.990044",
     "exception": false,
     "start_time": "2024-05-06T22:49:10.788601",
     "status": "completed"
    },
    "tags": []
   },
   "outputs": [
    {
     "data": {
      "text/plain": [
       "<Axes: xlabel='sex', ylabel='fare'>"
      ]
     },
     "execution_count": 27,
     "metadata": {},
     "output_type": "execute_result"
    },
    {
     "data": {
      "image/png": "[encoded data removed]",
      "text/plain": [
       "<Figure size 640x480 with 1 Axes>"
      ]
     },
     "metadata": {},
     "output_type": "display_data"
    }
   ],
   "source": [
    "sns.boxplot(df,y='fare' ,x='sex')"
   ]
  },
  {
   "cell_type": "markdown",
   "id": "99379d96",
   "metadata": {
    "papermill": {
     "duration": 0.024808,
     "end_time": "2024-05-06T22:49:11.040171",
     "exception": false,
     "start_time": "2024-05-06T22:49:11.015363",
     "status": "completed"
    },
    "tags": []
   },
   "source": [
    "#### in this plot we see that there is outliers on upper line of boxes which indicates that these persons can pay more fare as compared to other \n",
    "#### here we remove these outliers to normalise our data"
   ]
  },
  {
   "cell_type": "markdown",
   "id": "5836ffaf",
   "metadata": {
    "papermill": {
     "duration": 0.024739,
     "end_time": "2024-05-06T22:49:11.090172",
     "exception": false,
     "start_time": "2024-05-06T22:49:11.065433",
     "status": "completed"
    },
    "tags": []
   },
   "source": [
    "### ii) Step 2 - IQR Method"
   ]
  },
  {
   "cell_type": "markdown",
   "id": "ff185ccb",
   "metadata": {
    "papermill": {
     "duration": 0.024585,
     "end_time": "2024-05-06T22:49:11.140123",
     "exception": false,
     "start_time": "2024-05-06T22:49:11.115538",
     "status": "completed"
    },
    "tags": []
   },
   "source": [
    "Apply IQR Method To Remove Outliers in Fare Data"
   ]
  },
  {
   "cell_type": "code",
   "execution_count": 28,
   "id": "50b71be2",
   "metadata": {
    "execution": {
     "iopub.execute_input": "2024-05-06T22:49:11.192302Z",
     "iopub.status.busy": "2024-05-06T22:49:11.191408Z",
     "iopub.status.idle": "2024-05-06T22:49:11.197142Z",
     "shell.execute_reply": "2024-05-06T22:49:11.196262Z"
    },
    "papermill": {
     "duration": 0.033895,
     "end_time": "2024-05-06T22:49:11.199221",
     "exception": false,
     "start_time": "2024-05-06T22:49:11.165326",
     "status": "completed"
    },
    "tags": []
   },
   "outputs": [],
   "source": [
    "df['fare'] = df.age.fillna(value=df['fare'].mean())"
   ]
  },
  {
   "cell_type": "code",
   "execution_count": 29,
   "id": "3e701c92",
   "metadata": {
    "execution": {
     "iopub.execute_input": "2024-05-06T22:49:11.251003Z",
     "iopub.status.busy": "2024-05-06T22:49:11.250172Z",
     "iopub.status.idle": "2024-05-06T22:49:11.260603Z",
     "shell.execute_reply": "2024-05-06T22:49:11.259586Z"
    },
    "papermill": {
     "duration": 0.03864,
     "end_time": "2024-05-06T22:49:11.262774",
     "exception": false,
     "start_time": "2024-05-06T22:49:11.224134",
     "status": "completed"
    },
    "tags": []
   },
   "outputs": [
    {
     "name": "stdout",
     "output_type": "stream",
     "text": [
      "14.25\n"
     ]
    }
   ],
   "source": [
    "Q1 = df['fare'].quantile(0.25)\n",
    "Q3 = df['fare'].quantile(0.75)\n",
    "\n",
    "IQR =Q3-Q1\n",
    "print(IQR)\n",
    "lower_bound =Q1-1.5*IQR\n",
    "upper_bound =Q3+1.5*IQR\n",
    "\n",
    "df =df[(df['fare']>lower_bound)&(df['fare']<upper_bound)]"
   ]
  },
  {
   "cell_type": "code",
   "execution_count": 30,
   "id": "006ded4c",
   "metadata": {
    "execution": {
     "iopub.execute_input": "2024-05-06T22:49:11.316851Z",
     "iopub.status.busy": "2024-05-06T22:49:11.315934Z",
     "iopub.status.idle": "2024-05-06T22:49:11.484969Z",
     "shell.execute_reply": "2024-05-06T22:49:11.483924Z"
    },
    "papermill": {
     "duration": 0.199437,
     "end_time": "2024-05-06T22:49:11.488954",
     "exception": false,
     "start_time": "2024-05-06T22:49:11.289517",
     "status": "completed"
    },
    "tags": []
   },
   "outputs": [
    {
     "data": {
      "text/plain": [
       "<Axes: xlabel='sex', ylabel='fare'>"
      ]
     },
     "execution_count": 30,
     "metadata": {},
     "output_type": "execute_result"
    },
    {
     "data": {
      "image/png": "[encoded data removed]",
      "text/plain": [
       "<Figure size 640x480 with 1 Axes>"
      ]
     },
     "metadata": {},
     "output_type": "display_data"
    }
   ],
   "source": [
    "sns.boxplot(df,y='fare' ,x='sex')"
   ]
  },
  {
   "cell_type": "code",
   "execution_count": 31,
   "id": "bee7c49c",
   "metadata": {
    "execution": {
     "iopub.execute_input": "2024-05-06T22:49:11.547395Z",
     "iopub.status.busy": "2024-05-06T22:49:11.547040Z",
     "iopub.status.idle": "2024-05-06T22:49:12.030740Z",
     "shell.execute_reply": "2024-05-06T22:49:12.029800Z"
    },
    "papermill": {
     "duration": 0.512631,
     "end_time": "2024-05-06T22:49:12.033103",
     "exception": false,
     "start_time": "2024-05-06T22:49:11.520472",
     "status": "completed"
    },
    "tags": []
   },
   "outputs": [
    {
     "data": {
      "text/plain": [
       "<Axes: xlabel='fare', ylabel='Count'>"
      ]
     },
     "execution_count": 31,
     "metadata": {},
     "output_type": "execute_result"
    },
    {
     "data": {
      "image/png": "[encoded data removed]",
      "text/plain": [
       "<Figure size 640x480 with 1 Axes>"
      ]
     },
     "metadata": {},
     "output_type": "display_data"
    }
   ],
   "source": [
    "sns.histplot(df,x='fare',kde=1)"
   ]
  },
  {
   "cell_type": "markdown",
   "id": "ade1d435",
   "metadata": {
    "papermill": {
     "duration": 0.025432,
     "end_time": "2024-05-06T22:49:12.084626",
     "exception": false,
     "start_time": "2024-05-06T22:49:12.059194",
     "status": "completed"
    },
    "tags": []
   },
   "source": [
    "# Check the outliers by Z-Score Method"
   ]
  },
  {
   "cell_type": "code",
   "execution_count": 32,
   "id": "498a2d89",
   "metadata": {
    "execution": {
     "iopub.execute_input": "2024-05-06T22:49:12.138203Z",
     "iopub.status.busy": "2024-05-06T22:49:12.137868Z",
     "iopub.status.idle": "2024-05-06T22:49:12.147706Z",
     "shell.execute_reply": "2024-05-06T22:49:12.146614Z"
    },
    "papermill": {
     "duration": 0.039229,
     "end_time": "2024-05-06T22:49:12.149699",
     "exception": false,
     "start_time": "2024-05-06T22:49:12.110470",
     "status": "completed"
    },
    "tags": []
   },
   "outputs": [
    {
     "name": "stdout",
     "output_type": "stream",
     "text": [
      "Number of outliers: 0\n"
     ]
    }
   ],
   "source": [
    "import numpy as np\n",
    "df_copy = df.copy()\n",
    "# Define a function to detect outliers using Z-score\n",
    "def detect_outliers_zscore(data, threshold=3):\n",
    "    z_scores = np.abs((data - data.mean()) / data.std())\n",
    "    return z_scores > threshold\n",
    "df_copy['fare'] = df_copy['fare'].astype('bool')\n",
    "# Apply the function to your DataFrame df\n",
    "outliers = detect_outliers_zscore(df_copy['fare'])\n",
    "\n",
    "# Count the number of outliers\n",
    "num_outliers = outliers.sum()\n",
    "\n",
    "# Print the number of outliers\n",
    "print(f\"Number of outliers: {num_outliers}\")"
   ]
  },
  {
   "cell_type": "code",
   "execution_count": 33,
   "id": "3417997f",
   "metadata": {
    "execution": {
     "iopub.execute_input": "2024-05-06T22:49:12.204787Z",
     "iopub.status.busy": "2024-05-06T22:49:12.203983Z",
     "iopub.status.idle": "2024-05-06T22:49:12.213965Z",
     "shell.execute_reply": "2024-05-06T22:49:12.212836Z"
    },
    "papermill": {
     "duration": 0.040028,
     "end_time": "2024-05-06T22:49:12.216114",
     "exception": false,
     "start_time": "2024-05-06T22:49:12.176086",
     "status": "completed"
    },
    "tags": []
   },
   "outputs": [
    {
     "name": "stdout",
     "output_type": "stream",
     "text": [
      "Number of outliers: 0 so we dont need any removing outlier method to remove further outliers because our data is now normalized\n"
     ]
    }
   ],
   "source": [
    "import numpy as np\n",
    "df_copy = df.copy()\n",
    "# Define a function to detect outliers using Z-score\n",
    "def detect_outliers_zscore(data, threshold=3):\n",
    "    z_scores = np.abs((data - data.mean()) / data.std())\n",
    "    return z_scores > threshold\n",
    "df_copy['sex'] = df_copy['sex'].astype('bool')\n",
    "# Apply the function to your DataFrame df\n",
    "outliers = detect_outliers_zscore(df_copy['sex'])\n",
    "\n",
    "# Count the number of outliers\n",
    "num_outliers = outliers.sum()\n",
    "\n",
    "# Print the number of outliers\n",
    "print(f\"Number of outliers: {num_outliers} so we dont need any removing outlier method to remove further outliers because our data is now normalized\")"
   ]
  },
  {
   "cell_type": "markdown",
   "id": "cd5aa7e1",
   "metadata": {
    "papermill": {
     "duration": 0.026333,
     "end_time": "2024-05-06T22:49:12.269467",
     "exception": false,
     "start_time": "2024-05-06T22:49:12.243134",
     "status": "completed"
    },
    "tags": []
   },
   "source": [
    "# Data Exploration"
   ]
  },
  {
   "cell_type": "code",
   "execution_count": 34,
   "id": "51bab420",
   "metadata": {
    "execution": {
     "iopub.execute_input": "2024-05-06T22:49:12.327495Z",
     "iopub.status.busy": "2024-05-06T22:49:12.326517Z",
     "iopub.status.idle": "2024-05-06T22:49:12.692489Z",
     "shell.execute_reply": "2024-05-06T22:49:12.691656Z"
    },
    "papermill": {
     "duration": 0.397627,
     "end_time": "2024-05-06T22:49:12.694932",
     "exception": false,
     "start_time": "2024-05-06T22:49:12.297305",
     "status": "completed"
    },
    "tags": []
   },
   "outputs": [
    {
     "data": {
      "image/png": "[encoded data removed]",
      "text/plain": [
       "<Figure size 800x600 with 1 Axes>"
      ]
     },
     "metadata": {},
     "output_type": "display_data"
    }
   ],
   "source": [
    "\n",
    "# Distribution of variables\n",
    "import seaborn as sns\n",
    "import matplotlib.pyplot as plt\n",
    "\n",
    "# Histogram of age distribution\n",
    "plt.figure(figsize=(8, 6))\n",
    "sns.histplot(df['age'], bins=20, kde=True)\n",
    "plt.title('Distribution of Age (Cleaned)')\n",
    "plt.xlabel('Age')\n",
    "plt.ylabel('Frequency')\n",
    "plt.show()\n",
    "\n"
   ]
  },
  {
   "cell_type": "code",
   "execution_count": 35,
   "id": "61fe15e9",
   "metadata": {
    "execution": {
     "iopub.execute_input": "2024-05-06T22:49:12.750698Z",
     "iopub.status.busy": "2024-05-06T22:49:12.750304Z",
     "iopub.status.idle": "2024-05-06T22:49:12.755759Z",
     "shell.execute_reply": "2024-05-06T22:49:12.754879Z"
    },
    "papermill": {
     "duration": 0.035381,
     "end_time": "2024-05-06T22:49:12.757755",
     "exception": false,
     "start_time": "2024-05-06T22:49:12.722374",
     "status": "completed"
    },
    "tags": []
   },
   "outputs": [],
   "source": [
    "df['sex'] = df['sex'].astype('string')"
   ]
  },
  {
   "cell_type": "code",
   "execution_count": 36,
   "id": "2d9a3d79",
   "metadata": {
    "execution": {
     "iopub.execute_input": "2024-05-06T22:49:12.812706Z",
     "iopub.status.busy": "2024-05-06T22:49:12.811942Z",
     "iopub.status.idle": "2024-05-06T22:49:13.087933Z",
     "shell.execute_reply": "2024-05-06T22:49:13.086920Z"
    },
    "papermill": {
     "duration": 0.305979,
     "end_time": "2024-05-06T22:49:13.090293",
     "exception": false,
     "start_time": "2024-05-06T22:49:12.784314",
     "status": "completed"
    },
    "tags": []
   },
   "outputs": [
    {
     "data": {
      "image/png": "[encoded data removed]",
      "text/plain": [
       "<Figure size 800x600 with 1 Axes>"
      ]
     },
     "metadata": {},
     "output_type": "display_data"
    }
   ],
   "source": [
    "# Bar plot of survival by sex\n",
    "plt.figure(figsize=(8, 6))\n",
    "sns.countplot(x='survival', hue='sex', data=df)\n",
    "plt.title('Survival Count by Sex (Cleaned)')\n",
    "plt.xlabel('Survived')\n",
    "plt.ylabel('Count')\n",
    "plt.legend(title='Sex', loc='upper right')\n",
    "plt.show()\n"
   ]
  },
  {
   "cell_type": "code",
   "execution_count": 37,
   "id": "dec765d2",
   "metadata": {
    "execution": {
     "iopub.execute_input": "2024-05-06T22:49:13.147301Z",
     "iopub.status.busy": "2024-05-06T22:49:13.146650Z",
     "iopub.status.idle": "2024-05-06T22:49:15.597129Z",
     "shell.execute_reply": "2024-05-06T22:49:15.596223Z"
    },
    "papermill": {
     "duration": 2.482125,
     "end_time": "2024-05-06T22:49:15.600090",
     "exception": false,
     "start_time": "2024-05-06T22:49:13.117965",
     "status": "completed"
    },
    "tags": []
   },
   "outputs": [
    {
     "data": {
      "image/png": "[encoded data removed]",
      "text/plain": [
       "<Figure size 800x600 with 1 Axes>"
      ]
     },
     "metadata": {},
     "output_type": "display_data"
    }
   ],
   "source": [
    "plt.figure(figsize=(8, 6))\n",
    "sns.swarmplot(data=df,x='sex',y='age',hue='family_size')\n",
    "plt.title('Sex vs. Age by Family Size')\n",
    "plt.xlabel('Sex')\n",
    "plt.ylabel('Age')\n",
    "plt.legend(title='family_size', loc='upper right')\n",
    "plt.show()"
   ]
  },
  {
   "cell_type": "markdown",
   "id": "c0d3ec7a",
   "metadata": {
    "papermill": {
     "duration": 0.028326,
     "end_time": "2024-05-06T22:49:15.657256",
     "exception": false,
     "start_time": "2024-05-06T22:49:15.628930",
     "status": "completed"
    },
    "tags": []
   },
   "source": [
    "#### The relationship between age and fare with survival remains unclear even after cleaning the data"
   ]
  },
  {
   "cell_type": "code",
   "execution_count": 38,
   "id": "1d5507ec",
   "metadata": {
    "execution": {
     "iopub.execute_input": "2024-05-06T22:49:15.716264Z",
     "iopub.status.busy": "2024-05-06T22:49:15.715666Z",
     "iopub.status.idle": "2024-05-06T22:49:16.065418Z",
     "shell.execute_reply": "2024-05-06T22:49:16.064577Z"
    },
    "papermill": {
     "duration": 0.382112,
     "end_time": "2024-05-06T22:49:16.067936",
     "exception": false,
     "start_time": "2024-05-06T22:49:15.685824",
     "status": "completed"
    },
    "tags": []
   },
   "outputs": [
    {
     "data": {
      "image/png": "[encoded data removed]",
      "text/plain": [
       "<Figure size 800x600 with 1 Axes>"
      ]
     },
     "metadata": {},
     "output_type": "display_data"
    }
   ],
   "source": [
    "# Scatter plot of age vs. fare\n",
    "plt.figure(figsize=(8, 6))\n",
    "sns.scatterplot(x='age', y='fare', hue='survival', data=df)\n",
    "plt.title('Age vs. Fare by Survival')\n",
    "plt.xlabel('Age')\n",
    "plt.ylabel('Fare')\n",
    "plt.legend(title='Survived', loc='upper right')\n",
    "plt.show()\n"
   ]
  },
  {
   "cell_type": "markdown",
   "id": "284a1dc0",
   "metadata": {
    "papermill": {
     "duration": 0.02924,
     "end_time": "2024-05-06T22:49:16.126637",
     "exception": false,
     "start_time": "2024-05-06T22:49:16.097397",
     "status": "completed"
    },
    "tags": []
   },
   "source": [
    "After handling missing values and outliers, the distribution of age appears more normal."
   ]
  },
  {
   "cell_type": "code",
   "execution_count": 39,
   "id": "74bade42",
   "metadata": {
    "execution": {
     "iopub.execute_input": "2024-05-06T22:49:16.187586Z",
     "iopub.status.busy": "2024-05-06T22:49:16.186863Z",
     "iopub.status.idle": "2024-05-06T22:49:16.594799Z",
     "shell.execute_reply": "2024-05-06T22:49:16.593870Z"
    },
    "papermill": {
     "duration": 0.440882,
     "end_time": "2024-05-06T22:49:16.596721",
     "exception": false,
     "start_time": "2024-05-06T22:49:16.155839",
     "status": "completed"
    },
    "tags": []
   },
   "outputs": [
    {
     "data": {
      "image/png": "[encoded data removed]",
      "text/plain": [
       "<Figure size 800x600 with 1 Axes>"
      ]
     },
     "metadata": {},
     "output_type": "display_data"
    }
   ],
   "source": [
    "plt.figure(figsize=(8, 6))\n",
    "sns.histplot(df['age'], bins=20, kde=True)\n",
    "plt.title('Distribution of Age (Original)')\n",
    "plt.xlabel('Age')\n",
    "plt.ylabel('Frequency')\n",
    "plt.show()"
   ]
  },
  {
   "cell_type": "markdown",
   "id": "2d73cb8e",
   "metadata": {
    "papermill": {
     "duration": 0.02981,
     "end_time": "2024-05-06T22:49:16.656606",
     "exception": false,
     "start_time": "2024-05-06T22:49:16.626796",
     "status": "completed"
    },
    "tags": []
   },
   "source": [
    "# Question And Answers"
   ]
  },
  {
   "cell_type": "markdown",
   "id": "9c89e797",
   "metadata": {
    "papermill": {
     "duration": 0.029622,
     "end_time": "2024-05-06T22:49:16.715812",
     "exception": false,
     "start_time": "2024-05-06T22:49:16.686190",
     "status": "completed"
    },
    "tags": []
   },
   "source": [
    "### Q1 : What is the overall survival rate of passengers?"
   ]
  },
  {
   "cell_type": "code",
   "execution_count": 40,
   "id": "e30fa911",
   "metadata": {
    "execution": {
     "iopub.execute_input": "2024-05-06T22:49:16.777851Z",
     "iopub.status.busy": "2024-05-06T22:49:16.777053Z",
     "iopub.status.idle": "2024-05-06T22:49:16.782439Z",
     "shell.execute_reply": "2024-05-06T22:49:16.781576Z"
    },
    "papermill": {
     "duration": 0.038974,
     "end_time": "2024-05-06T22:49:16.784461",
     "exception": false,
     "start_time": "2024-05-06T22:49:16.745487",
     "status": "completed"
    },
    "tags": []
   },
   "outputs": [
    {
     "name": "stdout",
     "output_type": "stream",
     "text": [
      "The overall survival rate is: 41.71%\n"
     ]
    }
   ],
   "source": [
    "survival_rate = df['survival'].mean() * 100\n",
    "print(f\"The overall survival rate is: {survival_rate:.2f}%\")\n"
   ]
  },
  {
   "cell_type": "markdown",
   "id": "257ec6fe",
   "metadata": {
    "papermill": {
     "duration": 0.029774,
     "end_time": "2024-05-06T22:49:16.844840",
     "exception": false,
     "start_time": "2024-05-06T22:49:16.815066",
     "status": "completed"
    },
    "tags": []
   },
   "source": [
    "### Q2 : What is the distribution of passengers by class?"
   ]
  },
  {
   "cell_type": "code",
   "execution_count": 41,
   "id": "ec99969c",
   "metadata": {
    "execution": {
     "iopub.execute_input": "2024-05-06T22:49:16.907009Z",
     "iopub.status.busy": "2024-05-06T22:49:16.906162Z",
     "iopub.status.idle": "2024-05-06T22:49:16.912754Z",
     "shell.execute_reply": "2024-05-06T22:49:16.911837Z"
    },
    "papermill": {
     "duration": 0.039942,
     "end_time": "2024-05-06T22:49:16.914960",
     "exception": false,
     "start_time": "2024-05-06T22:49:16.875018",
     "status": "completed"
    },
    "tags": []
   },
   "outputs": [
    {
     "name": "stdout",
     "output_type": "stream",
     "text": [
      "Passenger distribution by class:\n",
      "pclass\n",
      "3    398\n",
      "1    191\n",
      "2    159\n",
      "Name: count, dtype: int64\n"
     ]
    }
   ],
   "source": [
    "passenger_class_distribution = df['pclass'].value_counts()\n",
    "print(\"Passenger distribution by class:\")\n",
    "print(passenger_class_distribution)"
   ]
  },
  {
   "cell_type": "markdown",
   "id": "157c29a9",
   "metadata": {
    "papermill": {
     "duration": 0.031653,
     "end_time": "2024-05-06T22:49:16.977537",
     "exception": false,
     "start_time": "2024-05-06T22:49:16.945884",
     "status": "completed"
    },
    "tags": []
   },
   "source": [
    "### Q3 : What is the age distribution of passengers?"
   ]
  },
  {
   "cell_type": "code",
   "execution_count": 42,
   "id": "c8387d61",
   "metadata": {
    "execution": {
     "iopub.execute_input": "2024-05-06T22:49:17.039848Z",
     "iopub.status.busy": "2024-05-06T22:49:17.039080Z",
     "iopub.status.idle": "2024-05-06T22:49:17.047934Z",
     "shell.execute_reply": "2024-05-06T22:49:17.046745Z"
    },
    "papermill": {
     "duration": 0.04247,
     "end_time": "2024-05-06T22:49:17.050143",
     "exception": false,
     "start_time": "2024-05-06T22:49:17.007673",
     "status": "completed"
    },
    "tags": []
   },
   "outputs": [
    {
     "name": "stdout",
     "output_type": "stream",
     "text": [
      "Age distribution of passengers:\n",
      "count    748.000000\n",
      "mean      28.347097\n",
      "std       11.975671\n",
      "min        0.420000\n",
      "25%       21.000000\n",
      "50%       29.699118\n",
      "75%       35.000000\n",
      "max       57.000000\n",
      "Name: age, dtype: float64\n"
     ]
    }
   ],
   "source": [
    "age_distribution = df['age'].describe()\n",
    "print(\"Age distribution of passengers:\")\n",
    "print(age_distribution)"
   ]
  },
  {
   "cell_type": "markdown",
   "id": "1a3a6940",
   "metadata": {
    "papermill": {
     "duration": 0.029898,
     "end_time": "2024-05-06T22:49:17.110706",
     "exception": false,
     "start_time": "2024-05-06T22:49:17.080808",
     "status": "completed"
    },
    "tags": []
   },
   "source": [
    "### Q4 : What is the average fare paid by passengers?"
   ]
  },
  {
   "cell_type": "code",
   "execution_count": 43,
   "id": "f415d026",
   "metadata": {
    "execution": {
     "iopub.execute_input": "2024-05-06T22:49:17.173054Z",
     "iopub.status.busy": "2024-05-06T22:49:17.172180Z",
     "iopub.status.idle": "2024-05-06T22:49:17.177610Z",
     "shell.execute_reply": "2024-05-06T22:49:17.176713Z"
    },
    "papermill": {
     "duration": 0.039414,
     "end_time": "2024-05-06T22:49:17.180159",
     "exception": false,
     "start_time": "2024-05-06T22:49:17.140745",
     "status": "completed"
    },
    "tags": []
   },
   "outputs": [
    {
     "name": "stdout",
     "output_type": "stream",
     "text": [
      "The average fare paid by passengers is: $28.35\n"
     ]
    }
   ],
   "source": [
    "average_fare = df['fare'].mean()\n",
    "print(f\"The average fare paid by passengers is: ${average_fare:.2f}\")"
   ]
  },
  {
   "cell_type": "markdown",
   "id": "3601846c",
   "metadata": {
    "papermill": {
     "duration": 0.030183,
     "end_time": "2024-05-06T22:49:17.241771",
     "exception": false,
     "start_time": "2024-05-06T22:49:17.211588",
     "status": "completed"
    },
    "tags": []
   },
   "source": [
    "### Q5 : How many passengers embarked from each port?"
   ]
  },
  {
   "cell_type": "code",
   "execution_count": 44,
   "id": "584f9a63",
   "metadata": {
    "execution": {
     "iopub.execute_input": "2024-05-06T22:49:17.306073Z",
     "iopub.status.busy": "2024-05-06T22:49:17.305165Z",
     "iopub.status.idle": "2024-05-06T22:49:17.312382Z",
     "shell.execute_reply": "2024-05-06T22:49:17.311419Z"
    },
    "papermill": {
     "duration": 0.041987,
     "end_time": "2024-05-06T22:49:17.314777",
     "exception": false,
     "start_time": "2024-05-06T22:49:17.272790",
     "status": "completed"
    },
    "tags": []
   },
   "outputs": [
    {
     "name": "stdout",
     "output_type": "stream",
     "text": [
      "Passenger count by embarkation port:\n",
      "who\n",
      "man      423\n",
      "woman    243\n",
      "child     82\n",
      "Name: count, dtype: int64\n"
     ]
    }
   ],
   "source": [
    "embarkation_port_count = df['who'].value_counts()\n",
    "print(\"Passenger count by embarkation port:\")\n",
    "print(embarkation_port_count)"
   ]
  },
  {
   "cell_type": "markdown",
   "id": "7f0dc1da",
   "metadata": {
    "papermill": {
     "duration": 0.031119,
     "end_time": "2024-05-06T22:49:17.377769",
     "exception": false,
     "start_time": "2024-05-06T22:49:17.346650",
     "status": "completed"
    },
    "tags": []
   },
   "source": [
    "### Q6 : What is the survival rate based on gender?"
   ]
  },
  {
   "cell_type": "code",
   "execution_count": 45,
   "id": "596cf1cd",
   "metadata": {
    "execution": {
     "iopub.execute_input": "2024-05-06T22:49:17.447108Z",
     "iopub.status.busy": "2024-05-06T22:49:17.446343Z",
     "iopub.status.idle": "2024-05-06T22:49:17.456587Z",
     "shell.execute_reply": "2024-05-06T22:49:17.454986Z"
    },
    "papermill": {
     "duration": 0.049691,
     "end_time": "2024-05-06T22:49:17.458663",
     "exception": false,
     "start_time": "2024-05-06T22:49:17.408972",
     "status": "completed"
    },
    "tags": []
   },
   "outputs": [
    {
     "name": "stdout",
     "output_type": "stream",
     "text": [
      "Survival rate by gender:\n",
      "sex\n",
      "female    73.333333\n",
      "male      22.246220\n",
      "Name: survival, dtype: float64\n"
     ]
    }
   ],
   "source": [
    "survival_by_gender = df.groupby('sex')['survival'].mean() * 100\n",
    "print(\"Survival rate by gender:\")\n",
    "print(survival_by_gender)"
   ]
  },
  {
   "cell_type": "markdown",
   "id": "f00c25e3",
   "metadata": {
    "papermill": {
     "duration": 0.031721,
     "end_time": "2024-05-06T22:49:17.524475",
     "exception": false,
     "start_time": "2024-05-06T22:49:17.492754",
     "status": "completed"
    },
    "tags": []
   },
   "source": [
    "### Q7 : Is there a correlation between age and fare paid?"
   ]
  },
  {
   "cell_type": "code",
   "execution_count": 46,
   "id": "472f253d",
   "metadata": {
    "execution": {
     "iopub.execute_input": "2024-05-06T22:49:17.589245Z",
     "iopub.status.busy": "2024-05-06T22:49:17.588352Z",
     "iopub.status.idle": "2024-05-06T22:49:17.594566Z",
     "shell.execute_reply": "2024-05-06T22:49:17.593611Z"
    },
    "papermill": {
     "duration": 0.040592,
     "end_time": "2024-05-06T22:49:17.596724",
     "exception": false,
     "start_time": "2024-05-06T22:49:17.556132",
     "status": "completed"
    },
    "tags": []
   },
   "outputs": [
    {
     "name": "stdout",
     "output_type": "stream",
     "text": [
      "The correlation coefficient between age and fare paid is: 1.00\n"
     ]
    }
   ],
   "source": [
    "correlation_age_fare = df['age'].corr(df['fare'])\n",
    "print(f\"The correlation coefficient between age and fare paid is: {correlation_age_fare:.2f}\")"
   ]
  },
  {
   "cell_type": "markdown",
   "id": "3100a687",
   "metadata": {
    "papermill": {
     "duration": 0.030679,
     "end_time": "2024-05-06T22:49:17.660849",
     "exception": false,
     "start_time": "2024-05-06T22:49:17.630170",
     "status": "completed"
    },
    "tags": []
   },
   "source": [
    "### Q8 : How many passengers traveled alone and how many with family?"
   ]
  },
  {
   "cell_type": "code",
   "execution_count": 47,
   "id": "263232a9",
   "metadata": {
    "execution": {
     "iopub.execute_input": "2024-05-06T22:49:17.725761Z",
     "iopub.status.busy": "2024-05-06T22:49:17.725381Z",
     "iopub.status.idle": "2024-05-06T22:49:17.733710Z",
     "shell.execute_reply": "2024-05-06T22:49:17.732666Z"
    },
    "papermill": {
     "duration": 0.043186,
     "end_time": "2024-05-06T22:49:17.735806",
     "exception": false,
     "start_time": "2024-05-06T22:49:17.692620",
     "status": "completed"
    },
    "tags": []
   },
   "outputs": [
    {
     "name": "stdout",
     "output_type": "stream",
     "text": [
      "Passengers traveling alone: 419\n",
      "Passengers traveling with family: 329\n"
     ]
    }
   ],
   "source": [
    "df['family'] = df['sibsp'] + df['parch']\n",
    "alone_passengers = sum(df['family'] == 0)\n",
    "with_family_passengers = sum(df['family'] > 0)\n",
    "print(f\"Passengers traveling alone: {alone_passengers}\")\n",
    "print(f\"Passengers traveling with family: {with_family_passengers}\")"
   ]
  },
  {
   "cell_type": "markdown",
   "id": "6d9dcb93",
   "metadata": {
    "execution": {
     "iopub.execute_input": "2024-05-06T22:41:29.517462Z",
     "iopub.status.busy": "2024-05-06T22:41:29.516589Z",
     "iopub.status.idle": "2024-05-06T22:41:30.733039Z",
     "shell.execute_reply": "2024-05-06T22:41:30.731667Z",
     "shell.execute_reply.started": "2024-05-06T22:41:29.517420Z"
    },
    "papermill": {
     "duration": 0.031794,
     "end_time": "2024-05-06T22:49:17.799638",
     "exception": false,
     "start_time": "2024-05-06T22:49:17.767844",
     "status": "completed"
    },
    "tags": []
   },
   "source": [
    "![](https://i.pinimg.com/originals/88/66/7e/88667eaf29f1bbf12d64abaaeae6caa2.gif)"
   ]
  }
 ],
 "metadata": {
  "kaggle": {
   "accelerator": "none",
   "dataSources": [],
   "dockerImageVersionId": 30698,
   "isGpuEnabled": false,
   "isInternetEnabled": true,
   "language": "python",
   "sourceType": "notebook"
  },
  "kernelspec": {
   "display_name": "Python 3",
   "language": "python",
   "name": "python3"
  },
  "language_info": {
   "codemirror_mode": {
    "name": "ipython",
    "version": 3
   },
   "file_extension": ".py",
   "mimetype": "text/x-python",
   "name": "python",
   "nbconvert_exporter": "python",
   "pygments_lexer": "ipython3",
   "version": "3.10.13"
  },
  "papermill": {
   "default_parameters": {},
   "duration": 19.332878,
   "end_time": "2024-05-06T22:49:18.451615",
   "environment_variables": {},
   "exception": null,
   "input_path": "__notebook__.ipynb",
   "output_path": "__notebook__.ipynb",
   "parameters": {},
   "start_time": "2024-05-06T22:48:59.118737",
   "version": "2.5.0"
  }
 },
 "nbformat": 4,
 "nbformat_minor": 5
}
